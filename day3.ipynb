{
 "cells": [
  {
   "cell_type": "code",
   "execution_count": 1,
   "id": "789a1770",
   "metadata": {},
   "outputs": [
    {
     "name": "stdout",
     "output_type": "stream",
     "text": [
      "Enter First Number:25\n",
      "Enter Second Number:25\n",
      "False\n",
      "False\n",
      "True\n",
      "True\n",
      "True\n",
      "False\n"
     ]
    }
   ],
   "source": [
    "num1 = int(input('Enter First Number:'))\n",
    "num2 = int(input('Enter Second Number:'))\n",
    "print(num1 > num2)\n",
    "print(num1 < num2)\n",
    "print(num1 >= num2)\n",
    "print(num1 <= num2)\n",
    "print(num1 == num2)\n",
    "print(num1 != num2)"
   ]
  },
  {
   "cell_type": "code",
   "execution_count": 6,
   "id": "b8bd5540",
   "metadata": {},
   "outputs": [
    {
     "name": "stdout",
     "output_type": "stream",
     "text": [
      "True\n",
      "True\n",
      "False\n"
     ]
    }
   ],
   "source": [
    "print(num1 == num2 and num1 <= num2)\n",
    "print(num1 == num2 or num1 <= num2)\n",
    "print(not num1)"
   ]
  },
  {
   "cell_type": "code",
   "execution_count": 7,
   "id": "feed9588",
   "metadata": {},
   "outputs": [
    {
     "name": "stdout",
     "output_type": "stream",
     "text": [
      "True\n",
      "False\n"
     ]
    }
   ],
   "source": [
    "print(num1 is num2)\n",
    "print(num1 is not num2)"
   ]
  },
  {
   "cell_type": "code",
   "execution_count": 1,
   "id": "53fa1770",
   "metadata": {},
   "outputs": [
    {
     "name": "stdout",
     "output_type": "stream",
     "text": [
      "<class 'tuple'>\n"
     ]
    }
   ],
   "source": [
    "numbers = (14,12,20,25,26,14,10,9,78,95,14,65)\n",
    "print(type(numbers))"
   ]
  },
  {
   "cell_type": "code",
   "execution_count": 9,
   "id": "dacda579",
   "metadata": {},
   "outputs": [
    {
     "name": "stdout",
     "output_type": "stream",
     "text": [
      "12\n"
     ]
    }
   ],
   "source": [
    "print(len(numbers))"
   ]
  },
  {
   "cell_type": "code",
   "execution_count": 10,
   "id": "d47bf78a",
   "metadata": {},
   "outputs": [
    {
     "name": "stdout",
     "output_type": "stream",
     "text": [
      "<class 'tuple'>\n"
     ]
    }
   ],
   "source": [
    "print(type(numbers))"
   ]
  },
  {
   "cell_type": "code",
   "execution_count": 11,
   "id": "3fc766b3",
   "metadata": {},
   "outputs": [
    {
     "name": "stdout",
     "output_type": "stream",
     "text": [
      "14\n"
     ]
    }
   ],
   "source": [
    "print(numbers[5]) # forward selition of a value counting from 0"
   ]
  },
  {
   "cell_type": "code",
   "execution_count": 12,
   "id": "d598aa39",
   "metadata": {},
   "outputs": [
    {
     "name": "stdout",
     "output_type": "stream",
     "text": [
      "14\n"
     ]
    }
   ],
   "source": [
    "print(numbers[-7]) # backward selection of a value counting from -1"
   ]
  },
  {
   "cell_type": "code",
   "execution_count": 15,
   "id": "8db9f351",
   "metadata": {},
   "outputs": [
    {
     "name": "stdout",
     "output_type": "stream",
     "text": [
      "False\n"
     ]
    }
   ],
   "source": [
    "print(100 in numbers)"
   ]
  },
  {
   "cell_type": "code",
   "execution_count": 16,
   "id": "056f6836",
   "metadata": {},
   "outputs": [
    {
     "name": "stdout",
     "output_type": "stream",
     "text": [
      "True\n"
     ]
    }
   ],
   "source": [
    "print(100 not in numbers)"
   ]
  },
  {
   "cell_type": "code",
   "execution_count": 17,
   "id": "4c738ba3",
   "metadata": {},
   "outputs": [
    {
     "name": "stdout",
     "output_type": "stream",
     "text": [
      "3\n"
     ]
    }
   ],
   "source": [
    "print(numbers.count(14))"
   ]
  },
  {
   "cell_type": "code",
   "execution_count": 18,
   "id": "060288e4",
   "metadata": {},
   "outputs": [
    {
     "name": "stdout",
     "output_type": "stream",
     "text": [
      "3\n"
     ]
    }
   ],
   "source": [
    "print(numbers.index(25))"
   ]
  },
  {
   "cell_type": "code",
   "execution_count": 19,
   "id": "cd9db46e",
   "metadata": {},
   "outputs": [],
   "source": [
    "items = ['Banana', 'Apple', 'Lemon','Orange']"
   ]
  },
  {
   "cell_type": "code",
   "execution_count": 20,
   "id": "1c042728",
   "metadata": {},
   "outputs": [
    {
     "name": "stdout",
     "output_type": "stream",
     "text": [
      "['Banana', 'Apple', 'Lemon', 'Orange', 'Pear']\n"
     ]
    }
   ],
   "source": [
    "items.append('Pear')\n",
    "print(items)"
   ]
  },
  {
   "cell_type": "code",
   "execution_count": 22,
   "id": "f3f6a295",
   "metadata": {},
   "outputs": [
    {
     "name": "stdout",
     "output_type": "stream",
     "text": [
      "['Banana', 'Apple', 'Lemon', 'Strawbery', 'Strawbery', 'Orange', 'Pear']\n"
     ]
    }
   ],
   "source": [
    "items.insert(3, 'Strawbery')\n",
    "print(items)"
   ]
  },
  {
   "cell_type": "code",
   "execution_count": 24,
   "id": "8418327c",
   "metadata": {},
   "outputs": [
    {
     "name": "stdout",
     "output_type": "stream",
     "text": [
      "['Banana', 'Apple', 'Lemon', 'Strawbery', 'Strawbery', 'Orange', 'Pear', 'Lemon', 'Pineapple', 'Coconut']\n"
     ]
    }
   ],
   "source": [
    "f = ['Lemon', 'Pineapple', 'Coconut']\n",
    "items.extend(f)\n",
    "print(items)"
   ]
  },
  {
   "cell_type": "code",
   "execution_count": 25,
   "id": "509d6cd7",
   "metadata": {},
   "outputs": [
    {
     "name": "stdout",
     "output_type": "stream",
     "text": [
      "['Banana', 'Apple', 'Lemon', 'Strawbery', 'Orange', 'Pear', 'Lemon', 'Pineapple', 'Coconut']\n"
     ]
    }
   ],
   "source": [
    "items.pop(4)\n",
    "print(items)"
   ]
  },
  {
   "cell_type": "code",
   "execution_count": 26,
   "id": "5ca53059",
   "metadata": {},
   "outputs": [
    {
     "name": "stdout",
     "output_type": "stream",
     "text": [
      "['Banana', 'Apple', 'Strawbery', 'Orange', 'Pear', 'Lemon', 'Pineapple', 'Coconut']\n"
     ]
    }
   ],
   "source": [
    "items.remove('Lemon')\n",
    "print(items)"
   ]
  },
  {
   "cell_type": "code",
   "execution_count": 28,
   "id": "ee6ee49d",
   "metadata": {},
   "outputs": [
    {
     "name": "stdout",
     "output_type": "stream",
     "text": [
      "['Apple', 'Banana', 'Coconut', 'Lemon', 'Orange', 'Pear', 'Pineapple', 'Strawbery']\n"
     ]
    }
   ],
   "source": [
    "items.sort()\n",
    "print(items)"
   ]
  },
  {
   "cell_type": "code",
   "execution_count": 29,
   "id": "04105ffb",
   "metadata": {},
   "outputs": [
    {
     "name": "stdout",
     "output_type": "stream",
     "text": [
      "['Strawbery', 'Pineapple', 'Pear', 'Orange', 'Lemon', 'Coconut', 'Banana', 'Apple']\n"
     ]
    }
   ],
   "source": [
    "items.reverse()\n",
    "print(items)"
   ]
  },
  {
   "cell_type": "code",
   "execution_count": 30,
   "id": "18e965bc",
   "metadata": {},
   "outputs": [
    {
     "name": "stdout",
     "output_type": "stream",
     "text": [
      "['Strawbery', 'Pineapple', 'Pear', 'Orange', 'Lemon', 'Coconut', 'Banana', 'Apple']\n"
     ]
    }
   ],
   "source": [
    "items_copy = items.copy()\n",
    "print(items_copy)"
   ]
  },
  {
   "cell_type": "code",
   "execution_count": 32,
   "id": "19547cc9",
   "metadata": {},
   "outputs": [
    {
     "name": "stdout",
     "output_type": "stream",
     "text": [
      "[]\n"
     ]
    }
   ],
   "source": [
    "items_copy.clear()\n",
    "print(items_copy)"
   ]
  },
  {
   "cell_type": "code",
   "execution_count": 33,
   "id": "5990d30b",
   "metadata": {},
   "outputs": [
    {
     "ename": "NameError",
     "evalue": "name 'items_copy' is not defined",
     "output_type": "error",
     "traceback": [
      "\u001b[1;31m---------------------------------------------------------------------------\u001b[0m",
      "\u001b[1;31mNameError\u001b[0m                                 Traceback (most recent call last)",
      "Cell \u001b[1;32mIn[33], line 2\u001b[0m\n\u001b[0;32m      1\u001b[0m \u001b[38;5;28;01mdel\u001b[39;00m(items_copy)\n\u001b[1;32m----> 2\u001b[0m \u001b[38;5;28mprint\u001b[39m(items_copy)\n",
      "\u001b[1;31mNameError\u001b[0m: name 'items_copy' is not defined"
     ]
    }
   ],
   "source": [
    "del(items_copy)\n",
    "print(items_copy)"
   ]
  },
  {
   "cell_type": "code",
   "execution_count": null,
   "id": "607ae8d3",
   "metadata": {},
   "outputs": [],
   "source": []
  }
 ],
 "metadata": {
  "kernelspec": {
   "display_name": "Python 3 (ipykernel)",
   "language": "python",
   "name": "python3"
  },
  "language_info": {
   "codemirror_mode": {
    "name": "ipython",
    "version": 3
   },
   "file_extension": ".py",
   "mimetype": "text/x-python",
   "name": "python",
   "nbconvert_exporter": "python",
   "pygments_lexer": "ipython3",
   "version": "3.11.5"
  }
 },
 "nbformat": 4,
 "nbformat_minor": 5
}
