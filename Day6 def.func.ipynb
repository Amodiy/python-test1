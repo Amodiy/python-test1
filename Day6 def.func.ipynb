{
 "cells": [
  {
   "cell_type": "code",
   "execution_count": 5,
   "id": "125e513c",
   "metadata": {},
   "outputs": [],
   "source": [
    "#write python function that allows a user to continuously order food items until they choose to stop. It will then calculate the total price and print a receipt\n",
    "#function is reuseable\n",
    "#starts with def followed by the name given to the function; then () you must always state what action the function should carry\n",
    "def greet():\n",
    "    print('welcome to python class')"
   ]
  },
  {
   "cell_type": "code",
   "execution_count": 6,
   "id": "099246db",
   "metadata": {},
   "outputs": [
    {
     "name": "stdout",
     "output_type": "stream",
     "text": [
      "welcome to python class\n",
      "None\n"
     ]
    }
   ],
   "source": [
    "print(greet())"
   ]
  },
  {
   "cell_type": "code",
   "execution_count": 7,
   "id": "a67bc8d3",
   "metadata": {},
   "outputs": [
    {
     "name": "stdout",
     "output_type": "stream",
     "text": [
      "welcome to python class\n"
     ]
    }
   ],
   "source": [
    "greet()"
   ]
  },
  {
   "cell_type": "code",
   "execution_count": 25,
   "id": "515e36f2",
   "metadata": {},
   "outputs": [
    {
     "name": "stdout",
     "output_type": "stream",
     "text": [
      "Hello world\n",
      "None\n"
     ]
    }
   ],
   "source": [
    "def verb():\n",
    "    print('Hello world')\n",
    "print(verb())"
   ]
  },
  {
   "cell_type": "code",
   "execution_count": 21,
   "id": "9eeb7ac4",
   "metadata": {},
   "outputs": [],
   "source": [
    "##parameter is a variable used in function, arguement actual value, parameter a placeholder for (value)arguement;"
   ]
  },
  {
   "cell_type": "code",
   "execution_count": 22,
   "id": "d5061fde",
   "metadata": {},
   "outputs": [],
   "source": [
    "def verb():\n",
    "    print('Hello world')\n",
    "    print(verb())"
   ]
  },
  {
   "cell_type": "code",
   "execution_count": 26,
   "id": "6ff94843",
   "metadata": {},
   "outputs": [
    {
     "name": "stdout",
     "output_type": "stream",
     "text": [
      "Opss sorry you are not eligible to vote\n"
     ]
    }
   ],
   "source": [
    "def votecheck(name, gender, age):\n",
    "    if age >=18:\n",
    "        print('congratulations you are eligible to vote')\n",
    "    else:\n",
    "        print('Opss sorry you are not eligible to vote')\n",
    "        \n",
    "votecheck('sam', 'Male',15)        \n"
   ]
  },
  {
   "cell_type": "code",
   "execution_count": 27,
   "id": "d7f3be08",
   "metadata": {},
   "outputs": [
    {
     "ename": "SyntaxError",
     "evalue": "expected '(' (1358086568.py, line 3)",
     "output_type": "error",
     "traceback": [
      "\u001b[1;36m  Cell \u001b[1;32mIn[27], line 3\u001b[1;36m\u001b[0m\n\u001b[1;33m    def weightcheck:(weight):\u001b[0m\n\u001b[1;37m                   ^\u001b[0m\n\u001b[1;31mSyntaxError\u001b[0m\u001b[1;31m:\u001b[0m expected '('\n"
     ]
    }
   ],
   "source": [
    "#write a function to check if a user is eligible for rugby sport or football sport based on the weight\n",
    "#175 above weight for rugby and any weight below  football\n",
    "def weightcheck:(weight):\n",
    "    if weight < 175:\n",
    "        print ('Eligible for rugby')\n",
    "    if weight > 175:\n",
    "        print ('Eligible for football')\n",
    "weightcheck(180)"
   ]
  },
  {
   "cell_type": "code",
   "execution_count": 28,
   "id": "cb1c543c",
   "metadata": {},
   "outputs": [
    {
     "name": "stdout",
     "output_type": "stream",
     "text": [
      "Eligible for football\n"
     ]
    }
   ],
   "source": [
    "def weightcheck(weight):\n",
    "    if weight >= 175:\n",
    "        print ('Eligible for rugby')\n",
    "    else:\n",
    "        print ('Eligible for football')\n",
    "weightcheck(180)"
   ]
  },
  {
   "cell_type": "code",
   "execution_count": 29,
   "id": "4949a713",
   "metadata": {},
   "outputs": [
    {
     "name": "stdout",
     "output_type": "stream",
     "text": [
      "Eligible for rugby\n"
     ]
    }
   ],
   "source": [
    "def weightcheck(weight):\n",
    "    if weight >= 175:\n",
    "        print ('Eligible for rugby')\n",
    "    else:\n",
    "        print ('Eligible for football')\n",
    "weightcheck(180)\n"
   ]
  },
  {
   "cell_type": "code",
   "execution_count": 30,
   "id": "de211915",
   "metadata": {},
   "outputs": [
    {
     "name": "stdout",
     "output_type": "stream",
     "text": [
      "Opss sorry you are not eligible to vote\n"
     ]
    }
   ],
   "source": [
    "def votecheck(name, gender, age =18):\n",
    "    if age >=18:\n",
    "        print('congratulations you are eligible to vote')\n",
    "    else:\n",
    "        print('Opss sorry you are not eligible to vote')\n",
    "        \n",
    "votecheck('sam', 'Male',15)  "
   ]
  },
  {
   "cell_type": "code",
   "execution_count": 32,
   "id": "232cee81",
   "metadata": {},
   "outputs": [
    {
     "name": "stdout",
     "output_type": "stream",
     "text": [
      "congratulations you are eligible to vote\n"
     ]
    }
   ],
   "source": [
    "#when a default value is provided, the pararmeter assumes the value, age has been provided here\n",
    "def votecheck(name, gender, age=18):\n",
    "    if age >=18:\n",
    "        print('congratulations you are eligible to vote')\n",
    "    else:\n",
    "        print('Opss sorry you are not eligible to vote')\n",
    "        \n",
    "votecheck('sam', 'Male')  "
   ]
  },
  {
   "cell_type": "code",
   "execution_count": 33,
   "id": "0d353b7e",
   "metadata": {},
   "outputs": [
    {
     "name": "stdout",
     "output_type": "stream",
     "text": [
      "Opss sorry you are not eligible to vote\n"
     ]
    }
   ],
   "source": [
    "def votecheck(name, gender, age=11):\n",
    "    if age >=18:\n",
    "        print('congratulations you are eligible to vote')\n",
    "    else:\n",
    "        print('Opss sorry you are not eligible to vote')\n",
    "        \n",
    "votecheck('sam', 'Male')  "
   ]
  },
  {
   "cell_type": "code",
   "execution_count": 41,
   "id": "099d89a7",
   "metadata": {},
   "outputs": [
    {
     "name": "stdout",
     "output_type": "stream",
     "text": [
      "\n",
      "MENU\n",
      "Pizza: $15.00\n",
      "Sandwich: $7.50\n",
      "Salad: $4.99\n",
      "Fries: $3.99\n",
      "Burger: $8.00\n",
      "Enter the food item you want to order (or done to finish)pizza\n",
      " HOW MANY pizzas DO YOU WANT TO ORDER?5\n",
      "\n",
      "MENU\n",
      "Pizza: $15.00\n",
      "Sandwich: $7.50\n",
      "Salad: $4.99\n",
      "Fries: $3.99\n",
      "Burger: $8.00\n",
      "Enter the food item you want to order (or done to finish)salad\n",
      " HOW MANY salads DO YOU WANT TO ORDER?5\n",
      "\n",
      "MENU\n",
      "Pizza: $15.00\n",
      "Sandwich: $7.50\n",
      "Salad: $4.99\n",
      "Fries: $3.99\n",
      "Burger: $8.00\n",
      "Enter the food item you want to order (or done to finish)fries\n",
      " HOW MANY friess DO YOU WANT TO ORDER?3\n",
      "\n",
      "MENU\n",
      "Pizza: $15.00\n",
      "Sandwich: $7.50\n",
      "Salad: $4.99\n",
      "Fries: $3.99\n",
      "Burger: $8.00\n",
      "Enter the food item you want to order (or done to finish)done\n",
      "\n",
      "RECEIPT\n",
      "Pizza:5 * $8.00=$75.0\n",
      "Salad:5 * $8.00=$24.950000000000003\n",
      "Fries:3 * $8.00=$11.97\n",
      "Total Price is 111.92\n"
     ]
    }
   ],
   "source": [
    "#write python function that allows a user to continuously order food items until they choose to stop. It will then calculate the total price and print a receipt\n",
    "#whileloop has to be used in this case of 'continuousness'\n",
    "def orderfood():\n",
    "    menu={'pizza': 15.0,\n",
    "        'sandwich': 7.5,\n",
    "          'salad': 4.99,\n",
    "          'fries': 3.99,\n",
    "          'burger': 8.00\n",
    "    }\n",
    "    order={}\n",
    "    totalprice=0.0\n",
    "    while True:\n",
    "        print('\\nMENU')\n",
    "        for item, price in menu.items():\n",
    "            print(f'{item.capitalize()}: ${price:.2f}')\n",
    "        userchoice= input('Enter the food item you want to order (or done to finish)').lower()\n",
    "        if userchoice== 'done':\n",
    "             break \n",
    "        if userchoice in menu:\n",
    "            quantity=int(input(f' HOW MANY {userchoice}s DO YOU WANT TO ORDER?'))\n",
    "            order [userchoice]=quantity\n",
    "            totalprice += menu[userchoice] * quantity\n",
    "        else:\n",
    "             print('Invalid choice, choose from the menu.')\n",
    "    print('\\nRECEIPT')\n",
    "    for item, quantity in order.items():\n",
    "         print(f'{item.capitalize()}:{quantity} * ${price:.2f}=${menu[item]* quantity}')\n",
    "    print('Total Price is', totalprice)\n",
    "orderfood()                               "
   ]
  },
  {
   "cell_type": "code",
   "execution_count": null,
   "id": "a758939c",
   "metadata": {},
   "outputs": [],
   "source": []
  }
 ],
 "metadata": {
  "kernelspec": {
   "display_name": "Python 3 (ipykernel)",
   "language": "python",
   "name": "python3"
  },
  "language_info": {
   "codemirror_mode": {
    "name": "ipython",
    "version": 3
   },
   "file_extension": ".py",
   "mimetype": "text/x-python",
   "name": "python",
   "nbconvert_exporter": "python",
   "pygments_lexer": "ipython3",
   "version": "3.11.5"
  }
 },
 "nbformat": 4,
 "nbformat_minor": 5
}
