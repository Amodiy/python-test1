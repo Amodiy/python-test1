{
 "cells": [
  {
   "cell_type": "code",
   "execution_count": 1,
   "id": "d255bcc1",
   "metadata": {},
   "outputs": [
    {
     "name": "stdout",
     "output_type": "stream",
     "text": [
      "ppp\n",
      "yyy\n",
      "ttt\n",
      "hhh\n",
      "ooo\n",
      "nnn\n"
     ]
    }
   ],
   "source": [
    "word='python'\n",
    "for char in word:\n",
    "    print(char *3)"
   ]
  },
  {
   "cell_type": "code",
   "execution_count": 2,
   "id": "511a8ddd",
   "metadata": {},
   "outputs": [
    {
     "name": "stdout",
     "output_type": "stream",
     "text": [
      "ppp/yyy/ttt/hhh/ooo/nnn/"
     ]
    }
   ],
   "source": [
    "word= 'python'\n",
    "for char in word:\n",
    "    print(char*3, end= '/')"
   ]
  },
  {
   "cell_type": "code",
   "execution_count": 9,
   "id": "10a9e0fb",
   "metadata": {},
   "outputs": [
    {
     "name": "stdout",
     "output_type": "stream",
     "text": [
      "pythonpythonpython/pythonpythonpython/pythonpythonpython/pythonpythonpython/pythonpythonpython/pythonpythonpython/"
     ]
    }
   ],
   "source": [
    "word= 'python'\n",
    "for char in word:\n",
    "    print(word*3, end= '/')"
   ]
  },
  {
   "cell_type": "code",
   "execution_count": 1,
   "id": "5c8286b2",
   "metadata": {},
   "outputs": [
    {
     "name": "stdout",
     "output_type": "stream",
     "text": [
      "python/python/python/python/python/python/"
     ]
    }
   ],
   "source": [
    "word= 'python'\n",
    "for char in word:\n",
    "    print(word*1, end= '/')"
   ]
  },
  {
   "cell_type": "code",
   "execution_count": 2,
   "id": "23ef71ce",
   "metadata": {},
   "outputs": [
    {
     "name": "stdout",
     "output_type": "stream",
     "text": [
      "python/python/python/python/python/python/"
     ]
    }
   ],
   "source": [
    "word= 'python'\n",
    "for char in word:\n",
    "    print(word, end= '/')"
   ]
  },
  {
   "cell_type": "code",
   "execution_count": 5,
   "id": "da03b1fd",
   "metadata": {},
   "outputs": [
    {
     "name": "stdout",
     "output_type": "stream",
     "text": [
      "python/"
     ]
    }
   ],
   "source": [
    "word= 'python'\n",
    "print(word, end= '/')"
   ]
  },
  {
   "cell_type": "code",
   "execution_count": 8,
   "id": "7edd730b",
   "metadata": {},
   "outputs": [
    {
     "name": "stdout",
     "output_type": "stream",
     "text": [
      "hey Fav, this is a reminder of our meeting on friday, 12pm\n",
      "hey Tre, this is a reminder of our meeting on friday, 12pm\n",
      "hey jig, this is a reminder of our meeting on friday, 12pm\n",
      "hey oho, this is a reminder of our meeting on friday, 12pm\n",
      "hey Ret, this is a reminder of our meeting on friday, 12pm\n"
     ]
    }
   ],
   "source": [
    "friends = ['Fav', 'Tre', 'jig', 'oho', 'Ret']\n",
    "for name in friends:    \n",
    "    print(f'hey {name}, this is a reminder of our meeting on friday, 12pm')"
   ]
  },
  {
   "cell_type": "code",
   "execution_count": 12,
   "id": "42482c16",
   "metadata": {},
   "outputs": [
    {
     "name": "stdout",
     "output_type": "stream",
     "text": [
      " the total cost of items in the cart is N51000.0\n"
     ]
    }
   ],
   "source": [
    "#declare a variable and call it product\n",
    "#WRITE A PROGRAM TO CHECK IF AN ITEM IS IN STOCK AND CALCULATE THE TOTAL COST OF ITEMS IN THE SHOPPING CART\n",
    "products= {\n",
    "    'item1': {'Name': 'Big Burger', 'price':3000.00, 'stock':30},\n",
    "    'item2': {'Name': 'Small Burger', 'price': 1500.00, 'stock':60},\n",
    "    'item3': {'Name': 'Chicken Pie', 'price': 900.00, 'stock':100},\n",
    "}\n",
    "cart=[]\n",
    "totalcost= 0\n",
    "cart.append(('item1',5))\n",
    "cart.append(('item2',15))\n",
    "cart.append(('item3',15))\n",
    "for item in cart:\n",
    "    id, quantity = item\n",
    "    if id in products and products[id]['stock'] >= quantity:\n",
    "        totalcost += products[id]['price'] *quantity\n",
    "        #totalcost = totalcost + (products[id]['price'] *quantity) also same as the previous line\n",
    "    else:\n",
    "        print('Product out of stock')\n",
    "if totalcost > 0:\n",
    "    print(f' the total cost of items in the cart is N{totalcost}')\n",
    "else:\n",
    "        print('No item in the cart')"
   ]
  },
  {
   "cell_type": "code",
   "execution_count": 18,
   "id": "4387c89c",
   "metadata": {},
   "outputs": [
    {
     "name": "stdout",
     "output_type": "stream",
     "text": [
      "Enter A Number:3\n",
      "The SQRT of 3 is 1.7320508075688772\n",
      "Enter A Number:2\n",
      "The SQRT of 2 is 1.4142135623730951\n",
      "Enter A Number:12\n",
      "The SQRT of 12 is 3.4641016151377544\n",
      "Enter A Number:0\n"
     ]
    }
   ],
   "source": [
    "#Y LOOP AND FOR LOOP SAME\n",
    "#FOR LOOP VALUE MUST BE KNOWN\n",
    "#PROGRAM ONLY STOPS WHEN THE PROGRAM IS FALSE, EG KEEP JUMPING UNTIL YOU SEE THE FLAG\n",
    "#Y loop must have a condition to stop it from running \n",
    "usernumber =int(input('Enter A Number:'))\n",
    "import math\n",
    "counter=0\n",
    "while usernumber != 0:\n",
    "    print(f'The SQRT of {usernumber} is {math.sqrt(usernumber)}')\n",
    "    counter +=1\n",
    "    usernumber = int(input('Enter A Number:'))\n",
    "#counter is done to stop infinite loop    "
   ]
  },
  {
   "cell_type": "code",
   "execution_count": 21,
   "id": "0c578a69",
   "metadata": {},
   "outputs": [
    {
     "name": "stdout",
     "output_type": "stream",
     "text": [
      "Enter your username:hrkfn\n",
      "Please enter your pin:skdnd\n",
      "Login failed\n",
      "Enter your username:svksdn\n",
      "Please enter your pin:avsd n\n",
      "Login failed\n",
      "Enter your username:Datacodepro\n",
      "Please enter your pin:6066\n",
      "Access Granted...\n"
     ]
    }
   ],
   "source": [
    "#WRITE A SIMPLE AUTHENTICATION SYSTEM THAT CHECKS A USER'S CREDENTIALS TO ALLOW MAXIMUM ATTEMPT OF 3 TIMES LOGIN\n",
    "max_amount = 3\n",
    "login_attempt = 0\n",
    "correctusername = 'Datacodepro'\n",
    "correctpin = '6066'\n",
    "while login_attempt < max_amount: \n",
    "    username = input('Enter your username:') \n",
    "    pin= (input('Please enter your pin:'))\n",
    "    if username == correctusername and pin ==correctpin:\n",
    "        print('Access Granted...')\n",
    "        break\n",
    "    else:\n",
    "        print('Login failed')\n",
    "        login_attempt +=1\n",
    "if login_attempt == max_amount:\n",
    "    print('Maximum Login Reached, Account Locked...')\n",
    "    "
   ]
  },
  {
   "cell_type": "raw",
   "id": "2be5b905",
   "metadata": {},
   "source": [
    "#use a while loop to generate a time table from 1 to 12 with a user's number\n",
    "usernumber= int(input('Please enter your number:'))\n",
    "counter =1\n",
    "while counter <=12:\n",
    "    print(f'{usernumber} *{counter}={usernumber * counter}')\n",
    "    counter +=1\n",
    "    "
   ]
  },
  {
   "cell_type": "code",
   "execution_count": 30,
   "id": "0c5124a4",
   "metadata": {},
   "outputs": [
    {
     "name": "stdout",
     "output_type": "stream",
     "text": [
      "Please enter your number:2.9\n",
      "2.9 *1=2.9\n",
      "2.9 *2=5.8\n",
      "2.9 *3=8.7\n",
      "2.9 *4=11.6\n",
      "2.9 *5=14.5\n",
      "2.9 *6=17.4\n",
      "2.9 *7=20.3\n",
      "2.9 *8=23.2\n",
      "2.9 *9=26.099999999999998\n",
      "2.9 *10=29.0\n",
      "2.9 *11=31.9\n",
      "2.9 *12=34.8\n"
     ]
    }
   ],
   "source": [
    "#use a while loop to generate a time table from 1 to 12 with a user's number\n",
    "usernumber= float(input('Please enter your number:'))\n",
    "counter =1\n",
    "while counter <=12:\n",
    "    print(f'{usernumber} *{counter}={usernumber * counter}')\n",
    "    counter +=1\n",
    "    "
   ]
  },
  {
   "cell_type": "code",
   "execution_count": null,
   "id": "1c412bcd",
   "metadata": {},
   "outputs": [],
   "source": []
  }
 ],
 "metadata": {
  "kernelspec": {
   "display_name": "Python 3 (ipykernel)",
   "language": "python",
   "name": "python3"
  },
  "language_info": {
   "codemirror_mode": {
    "name": "ipython",
    "version": 3
   },
   "file_extension": ".py",
   "mimetype": "text/x-python",
   "name": "python",
   "nbconvert_exporter": "python",
   "pygments_lexer": "ipython3",
   "version": "3.11.5"
  }
 },
 "nbformat": 4,
 "nbformat_minor": 5
}
