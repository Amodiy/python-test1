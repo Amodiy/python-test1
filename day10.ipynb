{
 "cells": [
  {
   "cell_type": "code",
   "execution_count": 7,
   "id": "3fbe3cdd",
   "metadata": {},
   "outputs": [
    {
     "name": "stdout",
     "output_type": "stream",
     "text": [
      "['MAXYEAR', 'MINYEAR', 'UTC', '__all__', '__builtins__', '__cached__', '__doc__', '__file__', '__loader__', '__name__', '__package__', '__spec__', 'date', 'datetime', 'datetime_CAPI', 'sys', 'time', 'timedelta', 'timezone', 'tzinfo']\n"
     ]
    }
   ],
   "source": [
    "import datetime\n",
    "print(dir(datetime))"
   ]
  },
  {
   "cell_type": "code",
   "execution_count": 8,
   "id": "912bb07c",
   "metadata": {},
   "outputs": [
    {
     "data": {
      "text/plain": [
       "datetime.date(2024, 1, 30)"
      ]
     },
     "execution_count": 8,
     "metadata": {},
     "output_type": "execute_result"
    }
   ],
   "source": [
    "date1= datetime.date(2024,1,30)\n",
    "date1"
   ]
  },
  {
   "cell_type": "code",
   "execution_count": 4,
   "id": "345ac21e",
   "metadata": {},
   "outputs": [
    {
     "name": "stdout",
     "output_type": "stream",
     "text": [
      "2024\n",
      "1\n",
      "30\n",
      "1\n",
      "2\n"
     ]
    }
   ],
   "source": [
    "print(date1.year)\n",
    "print(date1.month)\n",
    "print(date1.day)\n",
    "print(date1.weekday())\n",
    "print(date1.isoweekday())"
   ]
  },
  {
   "cell_type": "code",
   "execution_count": 5,
   "id": "254af388",
   "metadata": {},
   "outputs": [
    {
     "data": {
      "text/plain": [
       "datetime.date(2024, 1, 30)"
      ]
     },
     "execution_count": 5,
     "metadata": {},
     "output_type": "execute_result"
    }
   ],
   "source": [
    "#strftime(string,format,time)for day of the week):this is usd for the modification of date and time formatted in a string\n",
    "currentdate=datetime.date.today()\n",
    "currentdate"
   ]
  },
  {
   "cell_type": "code",
   "execution_count": 7,
   "id": "bbc8bc63",
   "metadata": {},
   "outputs": [
    {
     "data": {
      "text/plain": [
       "'Tuesday'"
      ]
     },
     "execution_count": 7,
     "metadata": {},
     "output_type": "execute_result"
    }
   ],
   "source": [
    "currentdate.strftime('%A')"
   ]
  },
  {
   "cell_type": "code",
   "execution_count": 8,
   "id": "6dd72148",
   "metadata": {},
   "outputs": [
    {
     "data": {
      "text/plain": [
       "'Tue'"
      ]
     },
     "execution_count": 8,
     "metadata": {},
     "output_type": "execute_result"
    }
   ],
   "source": [
    "currentdate.strftime('%a')"
   ]
  },
  {
   "cell_type": "code",
   "execution_count": 10,
   "id": "5a18b667",
   "metadata": {},
   "outputs": [
    {
     "name": "stdout",
     "output_type": "stream",
     "text": [
      "January\n",
      "Jan\n",
      "2024\n",
      "24\n",
      "01\n",
      "30\n"
     ]
    }
   ],
   "source": [
    "print(currentdate.strftime('%B'))#month in full\n",
    "print(currentdate.strftime('%b'))#month abbrv.\n",
    "print(currentdate.strftime('%Y'))#year\n",
    "print(currentdate.strftime('%y'))#year abbrv.\n",
    "print(currentdate.strftime('%m'))#month abbrv.\n",
    "print(currentdate.strftime('%d'))#day numerical"
   ]
  },
  {
   "cell_type": "code",
   "execution_count": 9,
   "id": "9744a849",
   "metadata": {},
   "outputs": [
    {
     "data": {
      "text/plain": [
       "datetime.date(2024, 1, 31)"
      ]
     },
     "execution_count": 9,
     "metadata": {},
     "output_type": "execute_result"
    }
   ],
   "source": [
    "#format the current date in the format 30th of January,2024\n",
    "currentdate=datetime.date.today()\n",
    "currentdate"
   ]
  },
  {
   "cell_type": "code",
   "execution_count": 12,
   "id": "09ec179a",
   "metadata": {},
   "outputs": [
    {
     "ename": "SyntaxError",
     "evalue": "unterminated string literal (detected at line 3) (72557259.py, line 3)",
     "output_type": "error",
     "traceback": [
      "\u001b[1;36m  Cell \u001b[1;32mIn[12], line 3\u001b[1;36m\u001b[0m\n\u001b[1;33m    (f'(currentdate.strftime('%d'))th of (currentdate.strftime('%B')),  (currentdate.strftime('%Y'))))\u001b[0m\n\u001b[1;37m                                                                                                 ^\u001b[0m\n\u001b[1;31mSyntaxError\u001b[0m\u001b[1;31m:\u001b[0m unterminated string literal (detected at line 3)\n"
     ]
    }
   ],
   "source": [
    "currentdate=datetime.date.today()\n",
    "currentdate\n",
    "(f'(currentdate.strftime('%d'))th of (currentdate.strftime('%B')),  (currentdate.strftime('%Y'))))"
   ]
  },
  {
   "cell_type": "code",
   "execution_count": 20,
   "id": "b9a84ddf",
   "metadata": {},
   "outputs": [
    {
     "ename": "SyntaxError",
     "evalue": "invalid syntax. Perhaps you forgot a comma? (1764178451.py, line 3)",
     "output_type": "error",
     "traceback": [
      "\u001b[1;36m  Cell \u001b[1;32mIn[20], line 3\u001b[1;36m\u001b[0m\n\u001b[1;33m    (f'(currentdate.strftime('%d'))th of (currentdate.strftime('%B')),  (currentdate.strftime('%Y')))'\u001b[0m\n\u001b[1;37m     ^\u001b[0m\n\u001b[1;31mSyntaxError\u001b[0m\u001b[1;31m:\u001b[0m invalid syntax. Perhaps you forgot a comma?\n"
     ]
    }
   ],
   "source": [
    "currentdate=datetime.date.today()\n",
    "currentdate\n",
    "(f'(currentdate.strftime('%d'))th of (currentdate.strftime('%B')),  (currentdate.strftime('%Y')))'"
   ]
  },
  {
   "cell_type": "code",
   "execution_count": 10,
   "id": "6c70d0f4",
   "metadata": {},
   "outputs": [
    {
     "data": {
      "text/plain": [
       "'31th of January,  2024'"
      ]
     },
     "execution_count": 10,
     "metadata": {},
     "output_type": "execute_result"
    }
   ],
   "source": [
    "currentdate=datetime.date.today()\n",
    "currentdate\n",
    "(f\"{currentdate.strftime('%d')}th of {currentdate.strftime('%B')},  {currentdate.strftime('%Y')}\")"
   ]
  },
  {
   "cell_type": "code",
   "execution_count": 14,
   "id": "1ce10645",
   "metadata": {},
   "outputs": [
    {
     "name": "stdout",
     "output_type": "stream",
     "text": [
      "30th of January, 2024\n"
     ]
    }
   ],
   "source": [
    "print(currentdate.strftime('%dth of %B, %Y'))"
   ]
  },
  {
   "cell_type": "code",
   "execution_count": 21,
   "id": "616f290b",
   "metadata": {},
   "outputs": [
    {
     "data": {
      "text/plain": [
       "datetime.time(12, 45, 45, 123658)"
      ]
     },
     "execution_count": 21,
     "metadata": {},
     "output_type": "execute_result"
    }
   ],
   "source": [
    "time1=datetime.time(12,45,45,123658)#hour,minute,second,microsecond\n",
    "time1"
   ]
  },
  {
   "cell_type": "code",
   "execution_count": 22,
   "id": "738d480f",
   "metadata": {},
   "outputs": [
    {
     "name": "stdout",
     "output_type": "stream",
     "text": [
      "12\n",
      "45\n"
     ]
    }
   ],
   "source": [
    "print(time1.hour)\n",
    "print(time1.minute)"
   ]
  },
  {
   "cell_type": "code",
   "execution_count": 23,
   "id": "6150b126",
   "metadata": {},
   "outputs": [
    {
     "name": "stdout",
     "output_type": "stream",
     "text": [
      "12\n",
      "45\n",
      "45\n",
      "123658\n"
     ]
    }
   ],
   "source": [
    "print(time1.hour)\n",
    "print(time1.minute)\n",
    "print(time1.second)\n",
    "print(time1.microsecond)"
   ]
  },
  {
   "cell_type": "code",
   "execution_count": 26,
   "id": "6c040698",
   "metadata": {},
   "outputs": [
    {
     "name": "stdout",
     "output_type": "stream",
     "text": [
      "16:49:17.502183\n"
     ]
    }
   ],
   "source": [
    "#the time function in last place is to extract the date only from the variable\n",
    "currenttime= datetime.datetime.now().time()\n",
    "print (currenttime)"
   ]
  },
  {
   "cell_type": "code",
   "execution_count": 27,
   "id": "c73ba75a",
   "metadata": {},
   "outputs": [
    {
     "name": "stdout",
     "output_type": "stream",
     "text": [
      "16\n",
      "04\n",
      "49\n",
      "17\n",
      "502183\n",
      "PM\n"
     ]
    }
   ],
   "source": [
    "print(currenttime.strftime('%H')) #24HOUR FORMAT\n",
    "print(currenttime.strftime('%I'))#12HOUR FORMAT\n",
    "print(currenttime.strftime('%M'))\n",
    "print(currenttime.strftime('%S'))\n",
    "print(currenttime.strftime('%f'))\n",
    "print(currenttime.strftime('%p'))#RETURNS AM OR PM"
   ]
  },
  {
   "cell_type": "code",
   "execution_count": 29,
   "id": "6a8c2386",
   "metadata": {},
   "outputs": [
    {
     "data": {
      "text/plain": [
       "datetime.datetime(2024, 1, 30, 16, 57, 16, 640481)"
      ]
     },
     "execution_count": 29,
     "metadata": {},
     "output_type": "execute_result"
    }
   ],
   "source": [
    "currentdate_time= datetime.datetime.now()\n",
    "currentdate_time"
   ]
  },
  {
   "cell_type": "code",
   "execution_count": 32,
   "id": "e4d22768",
   "metadata": {},
   "outputs": [
    {
     "name": "stdout",
     "output_type": "stream",
     "text": [
      "please enter a date [mm/dd/yy]:01/01/2024\n",
      "2024-01-01 00:00:00\n"
     ]
    }
   ],
   "source": [
    "#strptime:formats a date in string format to datetime format\n",
    "date2=input('please enter a date [mm/dd/yy]:')\n",
    "            #cdate:converted date\n",
    "cdate= datetime.datetime.strptime(date2, '%d/%m/%Y')\n",
    "print(cdate)                                   \n",
    "#remeber you follow the format you programmed                                  "
   ]
  },
  {
   "cell_type": "code",
   "execution_count": 37,
   "id": "0c17d0a7",
   "metadata": {},
   "outputs": [
    {
     "name": "stdout",
     "output_type": "stream",
     "text": [
      "please enter a date [mm/dd/yy]:02/02/2024\n",
      "2024-02-02\n"
     ]
    }
   ],
   "source": [
    "#to access only date without the time value of [00.00.00]\n",
    "date2=input('please enter a date [mm/dd/yy]:')\n",
    "            #cdate:converted date\n",
    "cdate= datetime.datetime.strptime(date2, '%d/%m/%Y').date()\n",
    "print(cdate)                                   \n",
    "#remeber you follow the format you programmed                                  "
   ]
  },
  {
   "cell_type": "code",
   "execution_count": 38,
   "id": "a9ba4016",
   "metadata": {},
   "outputs": [
    {
     "data": {
      "text/plain": [
       "datetime.timedelta(0)"
      ]
     },
     "execution_count": 38,
     "metadata": {},
     "output_type": "execute_result"
    }
   ],
   "source": [
    "#timedelta: the difference between two date and time, aka time stamp in other p.lang\n",
    "currentdate-date1\n"
   ]
  },
  {
   "cell_type": "code",
   "execution_count": 40,
   "id": "13dfe96c",
   "metadata": {},
   "outputs": [
    {
     "data": {
      "text/plain": [
       "datetime.date(2024, 1, 30)"
      ]
     },
     "execution_count": 40,
     "metadata": {},
     "output_type": "execute_result"
    }
   ],
   "source": [
    "currentdate+ datetime.timedelta()"
   ]
  },
  {
   "cell_type": "code",
   "execution_count": 42,
   "id": "6ed11fbd",
   "metadata": {},
   "outputs": [
    {
     "data": {
      "text/plain": [
       "datetime.date(2024, 6, 18)"
      ]
     },
     "execution_count": 42,
     "metadata": {},
     "output_type": "execute_result"
    }
   ],
   "source": [
    "currentdate+ datetime.timedelta(weeks=20)"
   ]
  },
  {
   "cell_type": "code",
   "execution_count": 52,
   "id": "db5d0a00",
   "metadata": {},
   "outputs": [
    {
     "name": "stdout",
     "output_type": "stream",
     "text": [
      "please enter your date[mm/d/yy]:02/1/2024\n",
      "your exam is [weeks] from now and [days] days\n"
     ]
    }
   ],
   "source": [
    "#earlycode is building a system for student, you are instructed by the leader to write a code\n",
    "#that allows students to check their exam date in weeks and days from the current date\n",
    "examdate=input('please enter your date[mm/d/yy]:')\n",
    "future= datetime.datetime.strptime(examdate, '%m/%d/%Y').date()\n",
    "current_date= datetime.date.today()\n",
    "difference= (future - current_date)\n",
    "weeks=difference.days//7\n",
    "days=difference.days%7\n",
    "timeline=(f'your exam is [weeks] from now and [days] days')\n",
    "print(timeline)                                  "
   ]
  },
  {
   "cell_type": "code",
   "execution_count": null,
   "id": "3963ec4f",
   "metadata": {},
   "outputs": [],
   "source": []
  }
 ],
 "metadata": {
  "kernelspec": {
   "display_name": "Python 3 (ipykernel)",
   "language": "python",
   "name": "python3"
  },
  "language_info": {
   "codemirror_mode": {
    "name": "ipython",
    "version": 3
   },
   "file_extension": ".py",
   "mimetype": "text/x-python",
   "name": "python",
   "nbconvert_exporter": "python",
   "pygments_lexer": "ipython3",
   "version": "3.11.5"
  }
 },
 "nbformat": 4,
 "nbformat_minor": 5
}
