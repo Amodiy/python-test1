{
 "cells": [
  {
   "cell_type": "code",
   "execution_count": 2,
   "id": "22d0d0ab",
   "metadata": {},
   "outputs": [],
   "source": [
    "#print(\\nCurrent Stock.) prints a header indicating that the following information is about the \n",
    "#current stock.\n",
    "#for item-id\n",
    "stock={}\n",
    "def add_item(item_id, name,quantity):\n",
    "    if item_id not in stock:\n",
    "        stock[item_id]={'name':name, 'quantity': quantity}\n",
    "        print(f\"Item with ID {name} addeed to stock with ID {item_id}\")\n",
    "    else:\n",
    "        print(f\"Item with ID {item_id} already exists. Use update_item to modify.\")\n",
    "        \n",
    "def search_item(item_id):\n",
    "    if item_id in stock:\n",
    "        item = stock[item_id]\n",
    "        print(f\"Item ID: {item_id}, Name: {item['name']}, Quantity: {item['quantity']}\")\n",
    "    else:\n",
    "        print(f\"Item with ID {item_id} not found in stock.\")\n",
    "        \n",
    "def delete_item(item_id):\n",
    "    if item_id in stock:\n",
    "        del (stock[item_id])\n",
    "        print(f\"Item with ID {item_id} deleted from stock.\")\n",
    "    else:\n",
    "        print(f\"Item with ID {item_id} not found in stock.\")\n",
    "def display_stock():\n",
    "    print(\"\\nCurrent Stock:\")\n",
    "    for item_id, item in stock.items():\n",
    "        print (f\"Item ID: {item_id}, Name: {item['name']}, Quantity: {item['quantity']}\")\n",
    "        \n",
    "    \n"
   ]
  },
  {
   "cell_type": "code",
   "execution_count": 5,
   "id": "4c9c357d",
   "metadata": {},
   "outputs": [
    {
     "name": "stdout",
     "output_type": "stream",
     "text": [
      "Item with ID Good Mama 50KG Rice addeed to stock with ID 101\n",
      "Item with ID Golden Penny Spaghetti addeed to stock with ID 102\n",
      "Item with ID Good Mama 25KG Rice addeed to stock with ID 103\n",
      "Item with ID Good Mama 10KG Rice addeed to stock with ID 104\n",
      "Item with ID Dangote 5KG SUGAR addeed to stock with ID 105\n"
     ]
    }
   ],
   "source": [
    "add_item(101,'Good Mama 50KG Rice', 25)\n",
    "add_item(102,'Golden Penny Spaghetti',50)\n",
    "add_item(103,'Good Mama 25KG Rice',100)\n",
    "add_item(104,'Good Mama 10KG Rice', 250)\n",
    "add_item(105,'Dangote 5KG SUGAR', 150)       "
   ]
  },
  {
   "cell_type": "code",
   "execution_count": 6,
   "id": "9e202586",
   "metadata": {},
   "outputs": [
    {
     "data": {
      "text/plain": [
       "{101: {'name': 'Good Mama 50KG Rice', 'quantity': 25},\n",
       " 102: {'name': 'Golden Penny Spaghetti', 'quantity': 50},\n",
       " 103: {'name': 'Good Mama 25KG Rice', 'quantity': 100},\n",
       " 104: {'name': 'Good Mama 10KG Rice', 'quantity': 250},\n",
       " 105: {'name': 'Dangote 5KG SUGAR', 'quantity': 150}}"
      ]
     },
     "execution_count": 6,
     "metadata": {},
     "output_type": "execute_result"
    }
   ],
   "source": [
    "stock"
   ]
  },
  {
   "cell_type": "code",
   "execution_count": 7,
   "id": "43b03ef3",
   "metadata": {},
   "outputs": [
    {
     "name": "stdout",
     "output_type": "stream",
     "text": [
      "Item ID: 103, Name: Good Mama 25KG Rice, Quantity: 100\n"
     ]
    }
   ],
   "source": [
    "search_item(103)"
   ]
  },
  {
   "cell_type": "code",
   "execution_count": 8,
   "id": "33331a88",
   "metadata": {},
   "outputs": [
    {
     "name": "stdout",
     "output_type": "stream",
     "text": [
      "\n",
      "Current Stock:\n",
      "Item ID: 101, Name: Good Mama 50KG Rice, Quantity: 25\n",
      "Item ID: 102, Name: Golden Penny Spaghetti, Quantity: 50\n",
      "Item ID: 103, Name: Good Mama 25KG Rice, Quantity: 100\n",
      "Item ID: 104, Name: Good Mama 10KG Rice, Quantity: 250\n",
      "Item ID: 105, Name: Dangote 5KG SUGAR, Quantity: 150\n"
     ]
    }
   ],
   "source": [
    "display_stock()"
   ]
  },
  {
   "cell_type": "code",
   "execution_count": 10,
   "id": "36426c9e",
   "metadata": {},
   "outputs": [
    {
     "data": {
      "text/plain": [
       "<function __main__.<lambda>(x, y)>"
      ]
     },
     "execution_count": 10,
     "metadata": {},
     "output_type": "execute_result"
    }
   ],
   "source": [
    "#LAMBDA FUNCTION: a function that cannot be reused. since it doesnt have a name you proceed with a \n",
    "#parameter instead of a name. everything has to be on a single line\n",
    "(lambda x,y:x+y)"
   ]
  },
  {
   "cell_type": "code",
   "execution_count": 11,
   "id": "dedbdba2",
   "metadata": {},
   "outputs": [
    {
     "data": {
      "text/plain": [
       "(78, 50)"
      ]
     },
     "execution_count": 11,
     "metadata": {},
     "output_type": "execute_result"
    }
   ],
   "source": [
    "(78,50)"
   ]
  },
  {
   "cell_type": "code",
   "execution_count": 12,
   "id": "67a3888f",
   "metadata": {},
   "outputs": [
    {
     "data": {
      "text/plain": [
       "123"
      ]
     },
     "execution_count": 12,
     "metadata": {},
     "output_type": "execute_result"
    }
   ],
   "source": [
    "(lambda x,y:x+y)(72,51)"
   ]
  },
  {
   "cell_type": "code",
   "execution_count": 13,
   "id": "99882344",
   "metadata": {},
   "outputs": [
    {
     "name": "stdout",
     "output_type": "stream",
     "text": [
      "enter your name:amodiy\n"
     ]
    },
    {
     "data": {
      "text/plain": [
       "'amodiy not in uppercase'"
      ]
     },
     "execution_count": 13,
     "metadata": {},
     "output_type": "execute_result"
    }
   ],
   "source": [
    "#lambda function to check if a user name is in upper case\n",
    "#how to fit a condition into a lambda function, the expression{outcome} comes first\n",
    "#cannot take only an if condition,must be if and else\n",
    "(lambda name:f'{name} is in upper case' if name==name.upper()else f'{name} not in uppercase')(input('enter your name:'))"
   ]
  },
  {
   "cell_type": "code",
   "execution_count": 15,
   "id": "69d6664d",
   "metadata": {},
   "outputs": [
    {
     "name": "stdout",
     "output_type": "stream",
     "text": [
      "enter your name:Amodiy\n"
     ]
    },
    {
     "data": {
      "text/plain": [
       "'Amodiy not in uppercase'"
      ]
     },
     "execution_count": 15,
     "metadata": {},
     "output_type": "execute_result"
    }
   ],
   "source": [
    "(lambda name:f'{name} is in upper case' if name==name.upper()else f'{name} not in uppercase')(input('enter your name:'))"
   ]
  },
  {
   "cell_type": "code",
   "execution_count": 16,
   "id": "ff19fc29",
   "metadata": {},
   "outputs": [
    {
     "name": "stdout",
     "output_type": "stream",
     "text": [
      "enter your name:AMODIY Remi\n"
     ]
    },
    {
     "data": {
      "text/plain": [
       "'AMODIY Remi not in uppercase'"
      ]
     },
     "execution_count": 16,
     "metadata": {},
     "output_type": "execute_result"
    }
   ],
   "source": [
    "(lambda name:f'{name} is in upper case' if name==name.upper()else f'{name} not in uppercase')(input('enter your name:'))"
   ]
  },
  {
   "cell_type": "code",
   "execution_count": 17,
   "id": "6372885a",
   "metadata": {},
   "outputs": [
    {
     "name": "stdout",
     "output_type": "stream",
     "text": [
      "enter your name:AMODIY\n"
     ]
    },
    {
     "data": {
      "text/plain": [
       "'AMODIY is in upper case'"
      ]
     },
     "execution_count": 17,
     "metadata": {},
     "output_type": "execute_result"
    }
   ],
   "source": [
    "(lambda name:f'{name} is in upper case' if name==name.upper()else f'{name} not in uppercase')(input('enter your name:'))"
   ]
  },
  {
   "cell_type": "code",
   "execution_count": 18,
   "id": "9b0174af",
   "metadata": {},
   "outputs": [
    {
     "name": "stdout",
     "output_type": "stream",
     "text": [
      "['PYTHON', 'C++', 'JAVA', 'PHP', 'GO', 'RUBY', 'PERL', 'RUST', 'JULIA', 'COBOL']\n"
     ]
    }
   ],
   "source": [
    "#Map: map is used for the modification of sequence like string, tuple and list where the lambda\n",
    "#function carries the operation and the final outcome is returned as a list\n",
    "language_name= ['python','c++','java','php', 'go', 'ruby','perl','rust', 'julia', 'cobol']\n",
    "finaloutcome= list(map(lambda x:x.upper(), language_name))\n",
    "print(finaloutcome)"
   ]
  },
  {
   "cell_type": "code",
   "execution_count": 19,
   "id": "da5488c6",
   "metadata": {},
   "outputs": [
    {
     "name": "stdout",
     "output_type": "stream",
     "text": [
      "('PYTHON', 'C++', 'JAVA', 'PHP', 'GO', 'RUBY', 'PERL', 'RUST', 'JULIA', 'COBOL')\n"
     ]
    }
   ],
   "source": [
    "language_name= ['python','c++','java','php', 'go', 'ruby','perl','rust', 'julia', 'cobol']\n",
    "finaloutcome= tuple(map(lambda x:x.upper(), language_name))\n",
    "print(finaloutcome)"
   ]
  },
  {
   "cell_type": "code",
   "execution_count": 29,
   "id": "2f96377c",
   "metadata": {},
   "outputs": [
    {
     "data": {
      "text/plain": [
       "['PYTHON',\n",
       " 'C++',\n",
       " 'JAVA',\n",
       " 'PHP',\n",
       " 'GO',\n",
       " 'RUBY',\n",
       " 'PERL',\n",
       " 'RUST',\n",
       " 'JULIA',\n",
       " 'COBOL']"
      ]
     },
     "execution_count": 29,
     "metadata": {},
     "output_type": "execute_result"
    }
   ],
   "source": [
    "language_name= ['python','c++','java','php', 'go', 'ruby','perl','rust', 'julia', 'cobol']\n",
    "finaloutcome= list(map(lambda x:x.upper(), language_name))\n",
    "(finaloutcome)"
   ]
  },
  {
   "cell_type": "code",
   "execution_count": 25,
   "id": "03d51f7e",
   "metadata": {},
   "outputs": [
    {
     "name": "stdout",
     "output_type": "stream",
     "text": [
      "['PYTHON', 'C++', 'JAVA', 'PHP', 'GO', 'RUBY', 'PERL', 'RUST', 'JULIA', 'COBOL']\n"
     ]
    }
   ],
   "source": [
    "language_name= ['python','c++','java','php', 'go', 'ruby','perl','rust', 'julia', 'cobol']\n",
    "finaloutcome= list(map(lambda x:x.upper(), language_name))\n",
    "print(finaloutcome)"
   ]
  },
  {
   "cell_type": "code",
   "execution_count": 26,
   "id": "c6910236",
   "metadata": {},
   "outputs": [
    {
     "name": "stdout",
     "output_type": "stream",
     "text": [
      "['RUBY', 'RUST']\n"
     ]
    }
   ],
   "source": [
    "#filter: filter is used for the selection in sequence like string, tuple and list where the lambda\n",
    "#function carries the operation and the final outcome is returned as a list\n",
    "finaloutcome2= list(filter(lambda x:x.startswith('R'), finaloutcome))\n",
    "print(finaloutcome2)"
   ]
  },
  {
   "cell_type": "code",
   "execution_count": 27,
   "id": "76f09d59",
   "metadata": {},
   "outputs": [
    {
     "name": "stdout",
     "output_type": "stream",
     "text": [
      "[66, 30, 71, 61, 23, 65, 55, 40, 20, 62, 64, 63, 54, 74, 50, 85, 82, 83, 20, 28, 77, 35, 35, 73, 84, 20, 33, 68, 81, 16, 70, 85, 33, 63, 52, 20, 25, 54, 79, 32, 39, 82, 37, 14, 63, 65, 84, 19, 25, 63]\n"
     ]
    }
   ],
   "source": [
    "#excercise\n",
    "#from the sequence below find the even and odd numbers separated in different list\n",
    "numbers=[]\n",
    "import random\n",
    "for x in range(1,51):\n",
    "    num= random.randint(14,89)\n",
    "    numbers.append(num)\n",
    "print(numbers)    "
   ]
  },
  {
   "cell_type": "code",
   "execution_count": 28,
   "id": "74a53b2b",
   "metadata": {},
   "outputs": [
    {
     "name": "stdout",
     "output_type": "stream",
     "text": [
      "[66, 30, 40, 20, 62, 64, 54, 74, 50, 82, 20, 28, 84, 20, 68, 16, 70, 52, 20, 54, 32, 82, 14, 84]\n",
      "[71, 61, 23, 65, 55, 63, 85, 83, 77, 35, 35, 73, 33, 81, 85, 33, 63, 25, 79, 39, 37, 63, 65, 19, 25, 63]\n"
     ]
    }
   ],
   "source": [
    "even=list(filter(lambda x: x%2==0, numbers))\n",
    "odd=list(filter(lambda x: x%2==1, numbers))\n",
    "print (even)\n",
    "print (odd)\n"
   ]
  },
  {
   "cell_type": "code",
   "execution_count": null,
   "id": "7b01f3c2",
   "metadata": {},
   "outputs": [],
   "source": []
  }
 ],
 "metadata": {
  "kernelspec": {
   "display_name": "Python 3 (ipykernel)",
   "language": "python",
   "name": "python3"
  },
  "language_info": {
   "codemirror_mode": {
    "name": "ipython",
    "version": 3
   },
   "file_extension": ".py",
   "mimetype": "text/x-python",
   "name": "python",
   "nbconvert_exporter": "python",
   "pygments_lexer": "ipython3",
   "version": "3.11.5"
  }
 },
 "nbformat": 4,
 "nbformat_minor": 5
}
