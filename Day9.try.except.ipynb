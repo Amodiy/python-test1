{
 "cells": [
  {
   "cell_type": "code",
   "execution_count": 5,
   "id": "60ee46d9",
   "metadata": {},
   "outputs": [
    {
     "name": "stdout",
     "output_type": "stream",
     "text": [
      "enter first number:2\n",
      "enter second number:5\n",
      "choose operation [+,-,*,/]:*\n",
      "2 * 5 = 10\n"
     ]
    }
   ],
   "source": [
    "#create a comprehensive building estimation calculator that involves\n",
    "# considering various aspects such as land cost, material cost, labour cost\n",
    "#and other expenses.\n",
    "#error handling\n",
    "#tryblock:test the block codes for any potential error\n",
    "#except:returns the kind of error encountered by the try block\n",
    "#else:depends on the try block before execution\n",
    "#finally:excecute with or without error returns\n",
    "\n",
    "try:\n",
    "    num1=int(input('enter first number:'))\n",
    "    num2=int(input('enter second number:'))\n",
    "    option=input('choose operation [+,-,*,/]:')\n",
    "    if option =='+':\n",
    "        print(f'{num1}+ {num2}= {num1 + num2}')\n",
    "    elif option == '-':\n",
    "        print(f'{num1} - {num2} = {num1 - num2}')\n",
    "    elif option == '*':\n",
    "        print(f'{num1} * {num2} = {num1 * num2}')\n",
    "    elif option == '/':\n",
    "        print(f'{num1} / {num2} = {num1 / num2}')\n",
    "except:\n",
    "     print('An Error Occurred')         "
   ]
  },
  {
   "cell_type": "code",
   "execution_count": 6,
   "id": "e83a444b",
   "metadata": {},
   "outputs": [
    {
     "name": "stdout",
     "output_type": "stream",
     "text": [
      "enter first number:5\n",
      "enter second number:e\n",
      "Wrong value for first or second number, whole number expected\n"
     ]
    }
   ],
   "source": [
    "try:\n",
    "    num1=int(input('enter first number:'))\n",
    "    num2=int(input('enter second number:'))\n",
    "    option=input('choose operation [+,-,*,/]:')\n",
    "    if option =='+':\n",
    "        print(f'{num1}+ {num2}= {num1 + num2}')\n",
    "    elif option == '-':\n",
    "        print(f'{num1} - {num2} = {num1 - num2}')\n",
    "    elif option == '*':\n",
    "        print(f'{num1} * {num2} = {num1 * num2}')\n",
    "    elif option == '/':\n",
    "        print(f'{num1} / {num2} = {num1 / num2}')\n",
    "except ValueError:\n",
    "    print('Wrong value for first or second number, whole number expected')\n",
    "except ZeroDivisionError:\n",
    "    print('Sorry you cannot divide a number by 0')    \n",
    "except:\n",
    "     print('You have encountered one or more errors')         \n",
    "        "
   ]
  },
  {
   "cell_type": "code",
   "execution_count": 7,
   "id": "541288f5",
   "metadata": {},
   "outputs": [
    {
     "name": "stdout",
     "output_type": "stream",
     "text": [
      "enter first number:7\n",
      "enter second number:5\n",
      "choose operation [+,-,*,/]:*\n",
      "7 * 5 = 35\n",
      "16807\n",
      "End of program...\n"
     ]
    }
   ],
   "source": [
    "try:\n",
    "    num1=int(input('enter first number:'))\n",
    "    num2=int(input('enter second number:'))\n",
    "    option=input('choose operation [+,-,*,/]:')\n",
    "    if option =='+':\n",
    "        print(f'{num1}+ {num2}= {num1 + num2}')\n",
    "    elif option == '-':\n",
    "        print(f'{num1} - {num2} = {num1 - num2}')\n",
    "    elif option == '*':\n",
    "        print(f'{num1} * {num2} = {num1 * num2}')\n",
    "    elif option == '/':\n",
    "        print(f'{num1} / {num2} = {num1 / num2}')\n",
    "except ValueError:\n",
    "    print('Wrong value for first or second number, whole number expected')\n",
    "except ZeroDivisionError:\n",
    "    print('Sorry you cannot divide a number by 0')    \n",
    "except:\n",
    "     print('You have encountered one or more errors')\n",
    "else:\n",
    "    print(num1**num2)\n",
    "finally:\n",
    "    print('End of program...')\n",
    "        "
   ]
  },
  {
   "cell_type": "code",
   "execution_count": 12,
   "id": "40de09f1",
   "metadata": {},
   "outputs": [
    {
     "name": "stdout",
     "output_type": "stream",
     "text": [
      "REAL ESTATE ESTIMATOR\n",
      "Enter the cost of the land: N10\n",
      "Enter total area (in per meter square):4\n",
      "Enter costp_m_s for the building:5\n",
      "Enter percentage of total cost for materials:2\n",
      "Enter percentage of total cost for labour:3\n",
      "__ESTIMATION RESULT__\n",
      "Land Cost: N10.00\n",
      "Construction Cost: N20.00\n",
      "Material Cost at (2.0): N0.40\n",
      "Labour Cost at (3.0): N0.60\n",
      "Total Estimated Cost: N31.00\n"
     ]
    }
   ],
   "source": [
    "def est_cal():\n",
    "    print('REAL ESTATE ESTIMATOR')\n",
    "#get user input\n",
    "    try:\n",
    "        land_cost=float(input('Enter the cost of the land: N'))\n",
    "        landarea=float(input('Enter total area (in per meter square):'))\n",
    "        costp_m_s=float(input('Enter costp_m_s for the building:'))\n",
    "        materialcostp_m_s=float(input('Enter percentage of total cost for materials:'))\n",
    "        labourcostp_m_s=float(input('Enter percentage of total cost for labour:'))\n",
    "    except ValueError:\n",
    "        print('Please Enter Valid Numerical Values.')\n",
    "    else:\n",
    "        con_cost =costp_m_s * landarea\n",
    "        material_cost=(materialcostp_m_s/100)*con_cost\n",
    "        labourcost= (labourcostp_m_s/100)*con_cost\n",
    "        totalcost= land_cost + con_cost + material_cost + labourcost\n",
    "    finally:\n",
    "        print('__ESTIMATION RESULT__')\n",
    "        print(f'Land Cost: N{land_cost:.2f}')\n",
    "        print(f'Construction Cost: N{con_cost:.2f}')\n",
    "        print(f'Material Cost at ({materialcostp_m_s}): N{material_cost:.2f}')\n",
    "        print(f'Labour Cost at ({labourcostp_m_s}): N{labourcost:.2f}')\n",
    "        print(f'Total Estimated Cost: N{totalcost:.2f}')\n",
    "est_cal()    \n"
   ]
  },
  {
   "cell_type": "code",
   "execution_count": null,
   "id": "3db771de",
   "metadata": {},
   "outputs": [],
   "source": []
  }
 ],
 "metadata": {
  "kernelspec": {
   "display_name": "Python 3 (ipykernel)",
   "language": "python",
   "name": "python3"
  },
  "language_info": {
   "codemirror_mode": {
    "name": "ipython",
    "version": 3
   },
   "file_extension": ".py",
   "mimetype": "text/x-python",
   "name": "python",
   "nbconvert_exporter": "python",
   "pygments_lexer": "ipython3",
   "version": "3.11.5"
  }
 },
 "nbformat": 4,
 "nbformat_minor": 5
}
