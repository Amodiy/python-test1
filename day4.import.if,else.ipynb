{
 "cells": [
  {
   "cell_type": "code",
   "execution_count": 1,
   "id": "91b7d2ab",
   "metadata": {},
   "outputs": [
    {
     "name": "stdout",
     "output_type": "stream",
     "text": [
      "['__doc__', '__loader__', '__name__', '__package__', '__spec__', 'acos', 'acosh', 'asin', 'asinh', 'atan', 'atan2', 'atanh', 'cbrt', 'ceil', 'comb', 'copysign', 'cos', 'cosh', 'degrees', 'dist', 'e', 'erf', 'erfc', 'exp', 'exp2', 'expm1', 'fabs', 'factorial', 'floor', 'fmod', 'frexp', 'fsum', 'gamma', 'gcd', 'hypot', 'inf', 'isclose', 'isfinite', 'isinf', 'isnan', 'isqrt', 'lcm', 'ldexp', 'lgamma', 'log', 'log10', 'log1p', 'log2', 'modf', 'nan', 'nextafter', 'perm', 'pi', 'pow', 'prod', 'radians', 'remainder', 'sin', 'sinh', 'sqrt', 'tan', 'tanh', 'tau', 'trunc', 'ulp']\n"
     ]
    }
   ],
   "source": [
    "import math\n",
    "print(dir(math))"
   ]
  },
  {
   "cell_type": "code",
   "execution_count": 2,
   "id": "3b1386d2",
   "metadata": {},
   "outputs": [
    {
     "name": "stdout",
     "output_type": "stream",
     "text": [
      "Please enter chicken weight in KG:2.5\n",
      "Your total price is 5000.0\n"
     ]
    }
   ],
   "source": [
    "chickenKG= float(input('Please enter chicken weight in KG:'))\n",
    "perkgprice=2000\n",
    "if chickenKG >= 1:\n",
    "    print(f'Your total price is {chickenKG* perkgprice}')\n",
    "    #Note About the if condition:\"for the if only condition the expression is returned only if \n",
    "    #the preset condition is true and no outcome if the preset condition is false\""
   ]
  },
  {
   "cell_type": "code",
   "execution_count": 5,
   "id": "169463cb",
   "metadata": {},
   "outputs": [
    {
     "name": "stdout",
     "output_type": "stream",
     "text": [
      "Please enter chicken weight in KG:0.3\n",
      "YOU ARE FREE TO GO THE CHICKEN KG IS NOT A CHARGEABLE AMOUNT.\n"
     ]
    }
   ],
   "source": [
    "chickenKG= float(input('Please enter chicken weight in KG:'))\n",
    "perkgprice=2000\n",
    "if chickenKG >= 1:\n",
    "    print(f'Your total price is{chickenKG* perkgprice}')\n",
    "else:\n",
    "    print('YOU ARE FREE TO GO THE CHICKEN KG IS NOT A CHARGEABLE AMOUNT.')\n",
    "    #Note About the if else condition:\"for the if else condition the expression is returned if the\n",
    "    #if preset condition is true and the expression under the else is returned if the condition is false\""
   ]
  },
  {
   "cell_type": "code",
   "execution_count": 8,
   "id": "10a76888",
   "metadata": {},
   "outputs": [
    {
     "name": "stdout",
     "output_type": "stream",
     "text": [
      "Shipment Region:South East\n",
      "Item Weight in KG:5\n",
      "Item Condition:Fragile\n",
      "Item Quantity7000\n",
      "Enter item cost:400\n",
      "Total Cost plus shipment is 3220000.0\n"
     ]
    }
   ],
   "source": [
    "region= input('Shipment Region:')\n",
    "weight= float(input('Item Weight in KG:'))\n",
    "condition= input('Item Condition:')\n",
    "quantity= float(input('Item Quantity'))\n",
    "costperitem = float(input('Enter item cost:'))\n",
    "if region == 'South South' and condition == 'Fragile':\n",
    "    print(f'Total Cost plus shipment is {(weight* 10 *quantity) + (quantity * costperitem)}')\n",
    "elif region == 'South South' and condition == 'Non-Fragile':\n",
    "    print(f'Total Cost plus shipment is {(weight * 8 * quantity) + (quantity *costperitem)}')\n",
    "elif region == 'South East' and condition == 'Non-Fragile':\n",
    "    print(f'Total Cost plus shipment is {(weight * 9 * quantity) + (quantity *costperitem)}')\n",
    "elif region == 'South East' and condition == 'Fragile':\n",
    "    print(f'Total Cost plus shipment is {(weight * 12 * quantity) + (quantity *costperitem)}')\n",
    "    "
   ]
  },
  {
   "cell_type": "code",
   "execution_count": null,
   "id": "ddd4ace8",
   "metadata": {},
   "outputs": [],
   "source": []
  }
 ],
 "metadata": {
  "kernelspec": {
   "display_name": "Python 3 (ipykernel)",
   "language": "python",
   "name": "python3"
  },
  "language_info": {
   "codemirror_mode": {
    "name": "ipython",
    "version": 3
   },
   "file_extension": ".py",
   "mimetype": "text/x-python",
   "name": "python",
   "nbconvert_exporter": "python",
   "pygments_lexer": "ipython3",
   "version": "3.11.5"
  }
 },
 "nbformat": 4,
 "nbformat_minor": 5
}
