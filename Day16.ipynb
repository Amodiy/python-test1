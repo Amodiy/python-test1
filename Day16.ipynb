{
 "cells": [
  {
   "cell_type": "code",
   "execution_count": 1,
   "id": "ba4bd775",
   "metadata": {},
   "outputs": [],
   "source": [
    "#as a newly employed developer/programmer, our first task is to develop a student management system capable of \n",
    "#accepting, searching,\n",
    "#displaying, updating, and archiving student records. with this goal in mind, how would you proceed to ensure the system's\n",
    "#functionality and security?\n"
   ]
  },
  {
   "cell_type": "code",
   "execution_count": 1,
   "id": "e1a05425",
   "metadata": {},
   "outputs": [],
   "source": [
    "import pymysql"
   ]
  },
  {
   "cell_type": "code",
   "execution_count": 9,
   "id": "93f04ec3",
   "metadata": {},
   "outputs": [],
   "source": [
    "mydb=pymysql.connect(\n",
    "    host= 'localhost',\n",
    "    port=3306,\n",
    "    user='root',\n",
    "    password= '1Lollipop.'\n",
    ")\n",
    "mycursor=mydb.cursor()"
   ]
  },
  {
   "cell_type": "code",
   "execution_count": 11,
   "id": "62656d6f",
   "metadata": {},
   "outputs": [
    {
     "ename": "OperationalError",
     "evalue": "(1050, \"Table 'students' already exists\")",
     "output_type": "error",
     "traceback": [
      "\u001b[1;31m---------------------------------------------------------------------------\u001b[0m",
      "\u001b[1;31mOperationalError\u001b[0m                          Traceback (most recent call last)",
      "Cell \u001b[1;32mIn[11], line 1\u001b[0m\n\u001b[1;32m----> 1\u001b[0m mycursor\u001b[38;5;241m.\u001b[39mexecute(\u001b[38;5;124m'\u001b[39m\u001b[38;5;124mcreate table students(studentid int primary key not null, studentname varchar(255) not null, studentage int not null, studentgender varchar(50) not null, dob date not null, address text not null, guardian varchar(255) not null, guardiancontact varchar(50) not null)\u001b[39m\u001b[38;5;124m'\u001b[39m)\n\u001b[0;32m      2\u001b[0m mycursor\u001b[38;5;241m.\u001b[39mexecute(\u001b[38;5;124m'\u001b[39m\u001b[38;5;124mshow columns from students\u001b[39m\u001b[38;5;124m'\u001b[39m)\n\u001b[0;32m      3\u001b[0m \u001b[38;5;28;01mfor\u001b[39;00m x \u001b[38;5;129;01min\u001b[39;00m mycursor:\n",
      "File \u001b[1;32m~\\anaconda3\\Lib\\site-packages\\pymysql\\cursors.py:148\u001b[0m, in \u001b[0;36mCursor.execute\u001b[1;34m(self, query, args)\u001b[0m\n\u001b[0;32m    144\u001b[0m     \u001b[38;5;28;01mpass\u001b[39;00m\n\u001b[0;32m    146\u001b[0m query \u001b[38;5;241m=\u001b[39m \u001b[38;5;28mself\u001b[39m\u001b[38;5;241m.\u001b[39mmogrify(query, args)\n\u001b[1;32m--> 148\u001b[0m result \u001b[38;5;241m=\u001b[39m \u001b[38;5;28mself\u001b[39m\u001b[38;5;241m.\u001b[39m_query(query)\n\u001b[0;32m    149\u001b[0m \u001b[38;5;28mself\u001b[39m\u001b[38;5;241m.\u001b[39m_executed \u001b[38;5;241m=\u001b[39m query\n\u001b[0;32m    150\u001b[0m \u001b[38;5;28;01mreturn\u001b[39;00m result\n",
      "File \u001b[1;32m~\\anaconda3\\Lib\\site-packages\\pymysql\\cursors.py:310\u001b[0m, in \u001b[0;36mCursor._query\u001b[1;34m(self, q)\u001b[0m\n\u001b[0;32m    308\u001b[0m \u001b[38;5;28mself\u001b[39m\u001b[38;5;241m.\u001b[39m_last_executed \u001b[38;5;241m=\u001b[39m q\n\u001b[0;32m    309\u001b[0m \u001b[38;5;28mself\u001b[39m\u001b[38;5;241m.\u001b[39m_clear_result()\n\u001b[1;32m--> 310\u001b[0m conn\u001b[38;5;241m.\u001b[39mquery(q)\n\u001b[0;32m    311\u001b[0m \u001b[38;5;28mself\u001b[39m\u001b[38;5;241m.\u001b[39m_do_get_result()\n\u001b[0;32m    312\u001b[0m \u001b[38;5;28;01mreturn\u001b[39;00m \u001b[38;5;28mself\u001b[39m\u001b[38;5;241m.\u001b[39mrowcount\n",
      "File \u001b[1;32m~\\anaconda3\\Lib\\site-packages\\pymysql\\connections.py:548\u001b[0m, in \u001b[0;36mConnection.query\u001b[1;34m(self, sql, unbuffered)\u001b[0m\n\u001b[0;32m    546\u001b[0m     sql \u001b[38;5;241m=\u001b[39m sql\u001b[38;5;241m.\u001b[39mencode(\u001b[38;5;28mself\u001b[39m\u001b[38;5;241m.\u001b[39mencoding, \u001b[38;5;124m\"\u001b[39m\u001b[38;5;124msurrogateescape\u001b[39m\u001b[38;5;124m\"\u001b[39m)\n\u001b[0;32m    547\u001b[0m \u001b[38;5;28mself\u001b[39m\u001b[38;5;241m.\u001b[39m_execute_command(COMMAND\u001b[38;5;241m.\u001b[39mCOM_QUERY, sql)\n\u001b[1;32m--> 548\u001b[0m \u001b[38;5;28mself\u001b[39m\u001b[38;5;241m.\u001b[39m_affected_rows \u001b[38;5;241m=\u001b[39m \u001b[38;5;28mself\u001b[39m\u001b[38;5;241m.\u001b[39m_read_query_result(unbuffered\u001b[38;5;241m=\u001b[39munbuffered)\n\u001b[0;32m    549\u001b[0m \u001b[38;5;28;01mreturn\u001b[39;00m \u001b[38;5;28mself\u001b[39m\u001b[38;5;241m.\u001b[39m_affected_rows\n",
      "File \u001b[1;32m~\\anaconda3\\Lib\\site-packages\\pymysql\\connections.py:775\u001b[0m, in \u001b[0;36mConnection._read_query_result\u001b[1;34m(self, unbuffered)\u001b[0m\n\u001b[0;32m    773\u001b[0m \u001b[38;5;28;01melse\u001b[39;00m:\n\u001b[0;32m    774\u001b[0m     result \u001b[38;5;241m=\u001b[39m MySQLResult(\u001b[38;5;28mself\u001b[39m)\n\u001b[1;32m--> 775\u001b[0m     result\u001b[38;5;241m.\u001b[39mread()\n\u001b[0;32m    776\u001b[0m \u001b[38;5;28mself\u001b[39m\u001b[38;5;241m.\u001b[39m_result \u001b[38;5;241m=\u001b[39m result\n\u001b[0;32m    777\u001b[0m \u001b[38;5;28;01mif\u001b[39;00m result\u001b[38;5;241m.\u001b[39mserver_status \u001b[38;5;129;01mis\u001b[39;00m \u001b[38;5;129;01mnot\u001b[39;00m \u001b[38;5;28;01mNone\u001b[39;00m:\n",
      "File \u001b[1;32m~\\anaconda3\\Lib\\site-packages\\pymysql\\connections.py:1156\u001b[0m, in \u001b[0;36mMySQLResult.read\u001b[1;34m(self)\u001b[0m\n\u001b[0;32m   1154\u001b[0m \u001b[38;5;28;01mdef\u001b[39;00m \u001b[38;5;21mread\u001b[39m(\u001b[38;5;28mself\u001b[39m):\n\u001b[0;32m   1155\u001b[0m     \u001b[38;5;28;01mtry\u001b[39;00m:\n\u001b[1;32m-> 1156\u001b[0m         first_packet \u001b[38;5;241m=\u001b[39m \u001b[38;5;28mself\u001b[39m\u001b[38;5;241m.\u001b[39mconnection\u001b[38;5;241m.\u001b[39m_read_packet()\n\u001b[0;32m   1158\u001b[0m         \u001b[38;5;28;01mif\u001b[39;00m first_packet\u001b[38;5;241m.\u001b[39mis_ok_packet():\n\u001b[0;32m   1159\u001b[0m             \u001b[38;5;28mself\u001b[39m\u001b[38;5;241m.\u001b[39m_read_ok_packet(first_packet)\n",
      "File \u001b[1;32m~\\anaconda3\\Lib\\site-packages\\pymysql\\connections.py:725\u001b[0m, in \u001b[0;36mConnection._read_packet\u001b[1;34m(self, packet_type)\u001b[0m\n\u001b[0;32m    723\u001b[0m     \u001b[38;5;28;01mif\u001b[39;00m \u001b[38;5;28mself\u001b[39m\u001b[38;5;241m.\u001b[39m_result \u001b[38;5;129;01mis\u001b[39;00m \u001b[38;5;129;01mnot\u001b[39;00m \u001b[38;5;28;01mNone\u001b[39;00m \u001b[38;5;129;01mand\u001b[39;00m \u001b[38;5;28mself\u001b[39m\u001b[38;5;241m.\u001b[39m_result\u001b[38;5;241m.\u001b[39munbuffered_active \u001b[38;5;129;01mis\u001b[39;00m \u001b[38;5;28;01mTrue\u001b[39;00m:\n\u001b[0;32m    724\u001b[0m         \u001b[38;5;28mself\u001b[39m\u001b[38;5;241m.\u001b[39m_result\u001b[38;5;241m.\u001b[39munbuffered_active \u001b[38;5;241m=\u001b[39m \u001b[38;5;28;01mFalse\u001b[39;00m\n\u001b[1;32m--> 725\u001b[0m     packet\u001b[38;5;241m.\u001b[39mraise_for_error()\n\u001b[0;32m    726\u001b[0m \u001b[38;5;28;01mreturn\u001b[39;00m packet\n",
      "File \u001b[1;32m~\\anaconda3\\Lib\\site-packages\\pymysql\\protocol.py:221\u001b[0m, in \u001b[0;36mMysqlPacket.raise_for_error\u001b[1;34m(self)\u001b[0m\n\u001b[0;32m    219\u001b[0m \u001b[38;5;28;01mif\u001b[39;00m DEBUG:\n\u001b[0;32m    220\u001b[0m     \u001b[38;5;28mprint\u001b[39m(\u001b[38;5;124m\"\u001b[39m\u001b[38;5;124merrno =\u001b[39m\u001b[38;5;124m\"\u001b[39m, errno)\n\u001b[1;32m--> 221\u001b[0m err\u001b[38;5;241m.\u001b[39mraise_mysql_exception(\u001b[38;5;28mself\u001b[39m\u001b[38;5;241m.\u001b[39m_data)\n",
      "File \u001b[1;32m~\\anaconda3\\Lib\\site-packages\\pymysql\\err.py:143\u001b[0m, in \u001b[0;36mraise_mysql_exception\u001b[1;34m(data)\u001b[0m\n\u001b[0;32m    141\u001b[0m \u001b[38;5;28;01mif\u001b[39;00m errorclass \u001b[38;5;129;01mis\u001b[39;00m \u001b[38;5;28;01mNone\u001b[39;00m:\n\u001b[0;32m    142\u001b[0m     errorclass \u001b[38;5;241m=\u001b[39m InternalError \u001b[38;5;28;01mif\u001b[39;00m errno \u001b[38;5;241m<\u001b[39m \u001b[38;5;241m1000\u001b[39m \u001b[38;5;28;01melse\u001b[39;00m OperationalError\n\u001b[1;32m--> 143\u001b[0m \u001b[38;5;28;01mraise\u001b[39;00m errorclass(errno, errval)\n",
      "\u001b[1;31mOperationalError\u001b[0m: (1050, \"Table 'students' already exists\")"
     ]
    }
   ],
   "source": [
    "mycursor.execute('create table students(studentid int primary key not null, name varchar(255) not null, studentage int not null, studentgender varchar(50) not null, dob date not null, address text not null, guardian varchar(255) not null, guardiancontact varchar(50) not null)')\n",
    "mycursor.execute('show columns from students')\n",
    "for x in mycursor:\n",
    "    print(x)"
   ]
  },
  {
   "cell_type": "code",
   "execution_count": 11,
   "id": "cdb8bfc3",
   "metadata": {},
   "outputs": [
    {
     "name": "stdout",
     "output_type": "stream",
     "text": [
      "('earlycodeacademy',)\n",
      "('earlycodeacademy2',)\n",
      "('employee_system',)\n",
      "('information_schema',)\n",
      "('j_waec_system',)\n",
      "('mysql',)\n",
      "('new_schema',)\n",
      "('performance_schema',)\n",
      "('sakila',)\n",
      "('sys',)\n",
      "('testing',)\n",
      "('world',)\n"
     ]
    }
   ],
   "source": [
    "mycursor.execute('show databases')\n",
    "for x in mycursor:\n",
    "    print(x)"
   ]
  },
  {
   "cell_type": "code",
   "execution_count": 12,
   "id": "28cfa592",
   "metadata": {},
   "outputs": [
    {
     "name": "stdout",
     "output_type": "stream",
     "text": [
      "('earlycodeacademy',)\n",
      "('earlycodeacademy2',)\n",
      "('employee_system',)\n",
      "('information_schema',)\n",
      "('j_waec_system',)\n",
      "('mysql',)\n",
      "('new_schema',)\n",
      "('performance_schema',)\n",
      "('primeacademy',)\n",
      "('sakila',)\n",
      "('sys',)\n",
      "('testing',)\n",
      "('world',)\n"
     ]
    }
   ],
   "source": [
    "mycursor.execute('create database primeacademy')\n",
    "mycursor.execute('show databases')\n",
    "for x in mycursor:\n",
    "    print(x)"
   ]
  },
  {
   "cell_type": "code",
   "execution_count": null,
   "id": "eb4ce5c8",
   "metadata": {},
   "outputs": [],
   "source": [
    "studentid\n",
    "name\n",
    "studentage\n",
    "studentgender\n",
    "dob\n",
    "address\n",
    "guardian\n",
    "guardiancontact"
   ]
  },
  {
   "cell_type": "code",
   "execution_count": 13,
   "id": "f9008ebf",
   "metadata": {},
   "outputs": [],
   "source": [
    "#to create database start with this code then execute\n",
    "mydb=pymysql.connect(\n",
    "    host= 'localhost',\n",
    "    port=3306,\n",
    "    user='root',\n",
    "    password= '1Lollipop.',\n",
    "    database= 'primeacademy'\n",
    ")\n",
    "mycursor=mydb.cursor()"
   ]
  },
  {
   "cell_type": "code",
   "execution_count": 20,
   "id": "0b21cf86",
   "metadata": {},
   "outputs": [],
   "source": [
    "#columnname, id, constraints\n",
    "#define a function for creating each column mycursor.execute\n",
    "#%s would serve as placeholder each for the number of queries, ie 8 queries, 8 placeholders\n",
    "def acceptrecord():\n",
    "    studentid= int(input('Enter student ID:'))\n",
    "    name= input('Enter student name:')\n",
    "    studentage=int(input('Enter student age:'))\n",
    "    studentgender=input('Enter student gender (Male/Female/Other):')\n",
    "    dob=input('Enter student date of birth (YYYY-MM-DD):')\n",
    "    address=input('Enter student address:')\n",
    "    guardian=input('Enter guardian name:')\n",
    "    guardiancontact=input('Enter guardian contact:')\n",
    "                   \n",
    "    query= 'insert into students(studentid,name,studentage,studentgender,dob,address,guardian,guardiancontact)values(%s,%s,%s,%s,%s,%s,%s,%s)'               \n",
    "    mycursor.execute(query,(studentid,name,studentage,studentgender,dob,address,guardian,guardiancontact))\n",
    "    mydb.commit()\n",
    "    print('Record inserted successfully...')\n",
    "    \n",
    "def search_records():\n",
    "        studentid= int(input('Enter search ID:'))\n",
    "        query='select * from students where studentid= \"%s\"' \n",
    "        mycursor.execute(query,(studentid,))\n",
    "        result=mycursor.fetchall()\n",
    "        if len(result)==0:\n",
    "            print('Record not found')\n",
    "        else:\n",
    "            for x in result:\n",
    "                print(x)\n",
    "def display_records():\n",
    "    mycursor.execute('select * from students')\n",
    "    for x in mycursor:\n",
    "        print(x)\n",
    "        \n",
    "def update_records():\n",
    "    studentid= int(input('Enter ID to be updated:'))\n",
    "    column= input('Enter the column to be updated:')\n",
    "    newval= input('Enter the new value:')\n",
    "    query=f'update students set {column} =%s where studentid= %s'\n",
    "    mycursor.execute(query,( newval, studentid))\n",
    "    mydb.commit()\n",
    "    print('record update successful...')\n",
    "    \n",
    "    \n",
    "def archive_records():\n",
    "    studentid= int(input('Enter ID to be deleted:'))\n",
    "    query= 'delete from students where studentid=%s'\n",
    "    mycursor.execute(query,(studentid,))\n",
    "    mydb.commit()\n",
    "    print('Record Archived Successfully...')\n",
    "    \n",
    "def main():\n",
    "    print('Welcome Admin')\n",
    "    print('Operation list [Accept, Display, Search, Update, Archive, Logout]')\n",
    "    operation=True\n",
    "    while operation:\n",
    "        option=input('Select Operation:')\n",
    "        if option == 'Accept'.lower():\n",
    "            acceptrecord()\n",
    "        elif option =='Display'.lower():\n",
    "            display_records()\n",
    "        elif option =='Search'.lower():\n",
    "            search_records()    \n",
    "        elif option =='Update'.lower():\n",
    "            update_records()\n",
    "        elif option =='Archive'.lower():\n",
    "            archive_records()    \n",
    "        elif option =='Logout'.lower():\n",
    "            operation= False \n",
    "            print('OPERATION TERMINATED......')\n",
    "            break "
   ]
  },
  {
   "cell_type": "code",
   "execution_count": 19,
   "id": "e4ae11b9",
   "metadata": {},
   "outputs": [
    {
     "name": "stdout",
     "output_type": "stream",
     "text": [
      "Welcome Admin\n",
      "Operation list [Accept, Display, Search, Update, Archive, Logout]\n",
      "Select Operation:search\n",
      "Enter search ID:1\n",
      "(1, 'hfhf hdbd', 12, 'other', datetime.date(2000, 2, 10), 'hdvjsjnsn 6g wuse', 'hdbjks gdb', '02135545554')\n",
      "Select Operation:logout\n",
      "OPERATION TERMINATED......\n"
     ]
    }
   ],
   "source": [
    "main()"
   ]
  },
  {
   "cell_type": "code",
   "execution_count": 21,
   "id": "19370225",
   "metadata": {},
   "outputs": [
    {
     "name": "stdout",
     "output_type": "stream",
     "text": [
      "Welcome Admin\n",
      "Operation list [Accept, Display, Search, Update, Archive, Logout]\n",
      "Select Operation:update\n",
      "Enter ID to be updated:1\n",
      "Enter the column to be updated:address\n",
      "Enter the new value:wuse zone 4\n",
      "record update successful...\n",
      "Select Operation:archive\n",
      "Enter ID to be deleted:1\n",
      "Record Archived Successfully...\n",
      "Select Operation:logout\n",
      "OPERATION TERMINATED......\n"
     ]
    }
   ],
   "source": [
    "main()"
   ]
  },
  {
   "cell_type": "code",
   "execution_count": null,
   "id": "882ea62f",
   "metadata": {},
   "outputs": [],
   "source": []
  }
 ],
 "metadata": {
  "kernelspec": {
   "display_name": "Python 3 (ipykernel)",
   "language": "python",
   "name": "python3"
  },
  "language_info": {
   "codemirror_mode": {
    "name": "ipython",
    "version": 3
   },
   "file_extension": ".py",
   "mimetype": "text/x-python",
   "name": "python",
   "nbconvert_exporter": "python",
   "pygments_lexer": "ipython3",
   "version": "3.11.5"
  }
 },
 "nbformat": 4,
 "nbformat_minor": 5
}
