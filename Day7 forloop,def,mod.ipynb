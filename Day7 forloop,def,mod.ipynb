{
 "cells": [
  {
   "cell_type": "code",
   "execution_count": 4,
   "id": "114d5e91",
   "metadata": {},
   "outputs": [
    {
     "name": "stdout",
     "output_type": "stream",
     "text": [
      "enter login detail:stu6\n",
      "____FINAL SCORE SHEET____\n",
      "name: muyi\n",
      "gender: male\n",
      "passignment: 87\n",
      "pexams: 58\n",
      "datascia: 99\n",
      "datascie: 100\n"
     ]
    }
   ],
   "source": [
    "# you have just been employed as a programmer at early code academy the first batch of python with data science just \n",
    "#round up all their and exams and the score is broken down into 4 part python assignment, python exams, \n",
    "#data science assignment \n",
    "#and data science exams, you are required to write a program using a function to display a student score provided the student is a \n",
    "#registered student in our system\n",
    "#note use dictionary for the records also records should consist of 7 students.\n",
    "\n",
    "def Student_records():\n",
    "    studentscore= {'stu1':{'name':'joy', 'gender':'female', 'passignment':40,\n",
    "                 'pexams':80, 'datascia':27,'datascie':58},\n",
    "                   'stu2':{'name':'king', 'gender':'male', 'passignment':53,\n",
    "            'pexams':71, 'datascia':50,'datascie':74},\n",
    "                   'stu3':{'name':'femi', 'gender':'male', 'passignment':49,\n",
    "                 'pexams':89, 'datascia':77,'datascie':90},\n",
    "                    'stu4':{'name':'mercy', 'gender':'female', 'passignment':91,\n",
    "                 'pexams':88, 'datascia':99,'datascie':81},\n",
    "                    'stu5':{'name':'loky', 'gender':'male', 'passignment':80,\n",
    "                 'pexams':49, 'datascia':64,'datascie':87},\n",
    "                   'stu6':{'name':'muyi', 'gender':'male', 'passignment':87,\n",
    "                 'pexams':58, 'datascia':99,'datascie':100},\n",
    "                   'stu7':{'name':'piju', 'gender':'female', 'passignment':56,\n",
    "                 'pexams':77, 'datascia':88,'datascie':88},\n",
    "                }\n",
    "    login= input('enter login detail:')\n",
    "    for key in studentscore:\n",
    "        if login==key:\n",
    "            print('____FINAL SCORE SHEET____')\n",
    "            print('name:', studentscore[key]['name'])\n",
    "            print('gender:', studentscore[key]['gender'])\n",
    "            print('passignment:', studentscore[key]['passignment'])\n",
    "            print('pexams:', studentscore[key]['pexams'])\n",
    "            print('datascia:', studentscore[key]['datascia'])\n",
    "            print('datascie:', studentscore[key]['datascie'])\n",
    "            break\n",
    "    else:\n",
    "        print('NOT REGISTERED')\n",
    "Student_records()\n",
    "        \n",
    "            \n",
    "            "
   ]
  },
  {
   "cell_type": "code",
   "execution_count": 5,
   "id": "10b2bad0",
   "metadata": {},
   "outputs": [
    {
     "name": "stdout",
     "output_type": "stream",
     "text": [
      "enter login detail:900\n",
      "NOT REGISTERED\n"
     ]
    }
   ],
   "source": [
    "# you have just been employed as a programmer at early code academy the first batch of python with data science just \n",
    "#round up all their and exams and the score is broken down into 4 part python assignment, python exams, \n",
    "#data science assignment \n",
    "#and data science exams, you are required to write a program using a function to display a student score provided the student is a \n",
    "#registered student in our system\n",
    "#note use dictionary for the records also records should consist of 7 students.\n",
    "def Student_records():\n",
    "    studentscore= {'stu1':{'name':'joy', 'gender':'female', 'passignment':40,\n",
    "                 'pexams':80, 'datascia':27,'datascie':58},\n",
    "                   'stu2':{'name':'king', 'gender':'male', 'passignment':53,\n",
    "            'pexams':71, 'datascia':50,'datascie':74},\n",
    "                   'stu3':{'name':'femi', 'gender':'male', 'passignment':49,\n",
    "                 'pexams':89, 'datascia':77,'datascie':90},\n",
    "                    'stu4':{'name':'mercy', 'gender':'female', 'passignment':91,\n",
    "                 'pexams':88, 'datascia':99,'datascie':81},\n",
    "                    'stu5':{'name':'loky', 'gender':'male', 'passignment':80,\n",
    "                 'pexams':49, 'datascia':64,'datascie':87},\n",
    "                   'stu6':{'name':'muyi', 'gender':'male', 'passignment':87,\n",
    "                 'pexams':58, 'datascia':99,'datascie':100},\n",
    "                   'stu7':{'name':'piju', 'gender':'female', 'passignment':56,\n",
    "                 'pexams':77, 'datascia':88,'datascie':88},\n",
    "                }\n",
    "    login= input('enter login detail:')\n",
    "    for key in studentscore:\n",
    "        if login==key:\n",
    "            print('____FINAL SCORE SHEET____')\n",
    "            print('name:', studentscore[key]['name'])\n",
    "            print('gender:', studentscore[key]['gender'])\n",
    "            print('passignment:', studentscore[key]['passignment'])\n",
    "            print('pexams:', studentscore[key]['pexams'])\n",
    "            print('datascia:', studentscore[key]['datascia'])\n",
    "            print('datascie:', studentscore[key]['datascie'])\n",
    "            break\n",
    "    else:\n",
    "        print('NOT REGISTERED')\n",
    "Student_records()\n",
    "        \n",
    "            \n",
    "            "
   ]
  },
  {
   "cell_type": "code",
   "execution_count": 9,
   "id": "54828608",
   "metadata": {},
   "outputs": [
    {
     "name": "stdout",
     "output_type": "stream",
     "text": [
      "enter login detail:stu4\n",
      "____FINAL SCORE SHEET____\n",
      "name: mercy\n",
      "gender: female\n",
      "passignment: 91\n",
      "pexams: 88\n",
      "datascia: 99\n",
      "datascie: 81\n",
      "Overall score: 89.75\n"
     ]
    }
   ],
   "source": [
    "#to get average score\n",
    "# you have just been employed as a programmer at early code academy the first batch of python with data science just \n",
    "#round up all their and exams and the score is broken down into 4 part python assignment, python exams, \n",
    "#data science assignment \n",
    "#and data science exams, you are required to write a program using a function to display a student score provided the student is a \n",
    "#registered student in our system\n",
    "#note use dictionary for the records also records should consist of 7 students.\n",
    "def Student_records():\n",
    "    studentscore= {'stu1':{'name':'joy', 'gender':'female', 'passignment':40,\n",
    "                 'pexams':80, 'datascia':27,'datascie':58},\n",
    "                   'stu2':{'name':'king', 'gender':'male', 'passignment':53,\n",
    "            'pexams':71, 'datascia':50,'datascie':74},\n",
    "                   'stu3':{'name':'femi', 'gender':'male', 'passignment':49,\n",
    "                 'pexams':89, 'datascia':77,'datascie':90},\n",
    "                    'stu4':{'name':'mercy', 'gender':'female', 'passignment':91,\n",
    "                 'pexams':88, 'datascia':99,'datascie':81},\n",
    "                    'stu5':{'name':'loky', 'gender':'male', 'passignment':80,\n",
    "                 'pexams':49, 'datascia':64,'datascie':87},\n",
    "                   'stu6':{'name':'muyi', 'gender':'male', 'passignment':87,\n",
    "                 'pexams':58, 'datascia':99,'datascie':100},\n",
    "                   'stu7':{'name':'piju', 'gender':'female', 'passignment':56,\n",
    "                 'pexams':77, 'datascia':88,'datascie':88},\n",
    "                }\n",
    "    login= input('enter login detail:')\n",
    "    for key in studentscore:\n",
    "        if login==key:\n",
    "            print('____FINAL SCORE SHEET____')\n",
    "            print('name:', studentscore[key]['name'])\n",
    "            print('gender:', studentscore[key]['gender'])\n",
    "            print('passignment:', studentscore[key]['passignment'])\n",
    "            print('pexams:', studentscore[key]['pexams'])\n",
    "            print('datascia:', studentscore[key]['datascia'])\n",
    "            print('datascie:', studentscore[key]['datascie'])\n",
    "            averagescore = (studentscore[key]['passignment'] + studentscore[key]['pexams'] + \n",
    "                            studentscore[key]['datascia']+ studentscore[key]['datascie'])/4\n",
    "            print('Overall score:', averagescore)\n",
    "            break\n",
    "    else:\n",
    "        print('NOT REGISTERED')\n",
    "Student_records()\n",
    "        \n",
    "            \n",
    "            "
   ]
  },
  {
   "cell_type": "code",
   "execution_count": 27,
   "id": "dc24381a",
   "metadata": {},
   "outputs": [
    {
     "name": "stdout",
     "output_type": "stream",
     "text": [
      "enter login detail:stu3\n",
      "____FINAL SCORE SHEET____\n",
      "name: femi\n",
      "gender: male\n",
      "passignment: 49\n",
      "pexams: 89\n",
      "datascia: 77\n",
      "datascie: 90\n",
      "Overall score of averagescore/100: 76.0 /100\n"
     ]
    }
   ],
   "source": [
    "#to get average score\n",
    "# you have just been employed as a programmer at early code academy the first batch of python with data science just \n",
    "#round up all their and exams and the score is broken down into 4 part python assignment, python exams, \n",
    "#data science assignment \n",
    "#and data science exams, you are required to write a program using a function to display a student score provided the student is a \n",
    "#registered student in our system\n",
    "#note use dictionary for the records also records should consist of 7 students.\n",
    "def Student_records():\n",
    "    studentscore= {'stu1':{'name':'joy', 'gender':'female', 'passignment':40,\n",
    "                 'pexams':80, 'datascia':27,'datascie':58},\n",
    "                   'stu2':{'name':'king', 'gender':'male', 'passignment':53,\n",
    "            'pexams':71, 'datascia':50,'datascie':74},\n",
    "                   'stu3':{'name':'femi', 'gender':'male', 'passignment':49,\n",
    "                 'pexams':89, 'datascia':77,'datascie':90},\n",
    "                    'stu4':{'name':'mercy', 'gender':'female', 'passignment':91,\n",
    "                 'pexams':88, 'datascia':99,'datascie':81},\n",
    "                    'stu5':{'name':'loky', 'gender':'male', 'passignment':80,\n",
    "                 'pexams':49, 'datascia':64,'datascie':87},\n",
    "                   'stu6':{'name':'muyi', 'gender':'male', 'passignment':87,\n",
    "                 'pexams':58, 'datascia':99,'datascie':100},\n",
    "                   'stu7':{'name':'piju', 'gender':'female', 'passignment':56,\n",
    "                 'pexams':77, 'datascia':88,'datascie':88},\n",
    "                }\n",
    "    login= input('enter login detail:')\n",
    "    for key in studentscore:\n",
    "        if login==key:\n",
    "            print('____FINAL SCORE SHEET____')\n",
    "            print('name:', studentscore[key]['name'])\n",
    "            print('gender:', studentscore[key]['gender'])\n",
    "            print('passignment:', studentscore[key]['passignment'])\n",
    "            print('pexams:', studentscore[key]['pexams'])\n",
    "            print('datascia:', studentscore[key]['datascia'])\n",
    "            print('datascie:', studentscore[key]['datascie'])\n",
    "            averagescore = (studentscore[key]['passignment'] + studentscore[key]['pexams'] + \n",
    "                            studentscore[key]['datascia']+ studentscore[key]['datascie'])/4\n",
    "            print('Overall score of averagescore/100:', round(averagescore,0),'/100')\n",
    "            break\n",
    "    else:\n",
    "        print('NOT REGISTERED')\n",
    "Student_records()\n",
    "        \n",
    "            \n",
    "            "
   ]
  },
  {
   "cell_type": "code",
   "execution_count": 13,
   "id": "a5fe48c8",
   "metadata": {},
   "outputs": [
    {
     "name": "stdout",
     "output_type": "stream",
     "text": [
      "64.75\n"
     ]
    }
   ],
   "source": [
    "#functions with variable lenght[more than one]a single parameter can accept multiple values(arguement)\n",
    "def average(*numbers):\n",
    "    avg =sum(numbers)/len(numbers)\n",
    "    print(avg)\n",
    "average(14,34,67,11,6,78,88,220)    \n",
    "    "
   ]
  },
  {
   "cell_type": "code",
   "execution_count": 14,
   "id": "86527809",
   "metadata": {},
   "outputs": [
    {
     "name": "stdout",
     "output_type": "stream",
     "text": [
      "['__builtins__', '__cached__', '__doc__', '__file__', '__loader__', '__name__', '__package__', '__spec__', 'average']\n"
     ]
    }
   ],
   "source": [
    "#create a module\n",
    "import mymodule\n",
    "print(dir(mymodule))"
   ]
  },
  {
   "cell_type": "code",
   "execution_count": 15,
   "id": "cbb7491f",
   "metadata": {},
   "outputs": [
    {
     "name": "stdout",
     "output_type": "stream",
     "text": [
      "61.2\n"
     ]
    }
   ],
   "source": [
    "mymodule.average(54,88,95,47,22)"
   ]
  },
  {
   "cell_type": "code",
   "execution_count": 25,
   "id": "1fdc8331",
   "metadata": {},
   "outputs": [
    {
     "name": "stdout",
     "output_type": "stream",
     "text": [
      "Name : Oni\n"
     ]
    }
   ],
   "source": [
    "def records(**details):\n",
    "    for key, value in details.items():\n",
    "        print(key,':',value)\n",
    "records(Name ='Oni')"
   ]
  },
  {
   "cell_type": "code",
   "execution_count": null,
   "id": "c70d2f9f",
   "metadata": {},
   "outputs": [],
   "source": [
    "#class object attribute method _init_ self"
   ]
  }
 ],
 "metadata": {
  "kernelspec": {
   "display_name": "Python 3 (ipykernel)",
   "language": "python",
   "name": "python3"
  },
  "language_info": {
   "codemirror_mode": {
    "name": "ipython",
    "version": 3
   },
   "file_extension": ".py",
   "mimetype": "text/x-python",
   "name": "python",
   "nbconvert_exporter": "python",
   "pygments_lexer": "ipython3",
   "version": "3.11.5"
  }
 },
 "nbformat": 4,
 "nbformat_minor": 5
}
